{
 "cells": [
  {
   "cell_type": "code",
   "execution_count": 1,
   "metadata": {},
   "outputs": [],
   "source": [
    "import os\n",
    "import torch\n",
    "import torchvision.transforms as transforms\n",
    "from torch.utils.data import Dataset, DataLoader\n",
    "import PIL\n",
    "from caltech256 import Caltech256\n",
    "from copy import deepcopy\n",
    "import numpy as np\n",
    "\n",
    "import torchvision\n",
    "import torchvision.transforms as transforms\n"
   ]
  },
  {
   "cell_type": "code",
   "execution_count": 2,
   "metadata": {},
   "outputs": [],
   "source": [
    "\n",
    "example_transform = transforms.Compose(\n",
    "    [\n",
    "        transforms.Scale((224,224)),\n",
    "        transforms.ToTensor(),\n",
    "        transforms.Normalize([0.485, 0.456, 0.406], [0.229, 0.224, 0.225])\n",
    "    ]\n",
    ")\n",
    "        \n",
    "caltech256_train = Caltech256(\"/datasets/Caltech256/256_ObjectCategories/\", example_transform, train=True)\n",
    "caltech256_test = Caltech256(\"/datasets/Caltech256/256_ObjectCategories/\", example_transform, train=False)\n",
    "\n",
    "train_data = DataLoader(\n",
    "    dataset = caltech256_train,\n",
    "    batch_size = 32,\n",
    "    shuffle = True,\n",
    "    num_workers = 4\n",
    ")\n",
    "\n",
    "test_data = DataLoader(\n",
    "    dataset = caltech256_test,\n",
    "    batch_size = 8,\n",
    "    shuffle = True,\n",
    "    num_workers = 4\n",
    ")\n",
    "\n"
   ]
  },
  {
   "cell_type": "code",
   "execution_count": 3,
   "metadata": {},
   "outputs": [
    {
     "data": {
      "text/plain": [
       "256"
      ]
     },
     "execution_count": 3,
     "metadata": {},
     "output_type": "execute_result"
    }
   ],
   "source": [
    "len(test_data)"
   ]
  },
  {
   "cell_type": "code",
   "execution_count": 4,
   "metadata": {
    "scrolled": true
   },
   "outputs": [],
   "source": [
    "#import pretrained VGG 16 \n",
    "import torchvision.models as models\n",
    "#Define a Convolution Neural Network\n",
    "from torch.autograd import Variable\n",
    "import torch.nn as nn\n",
    "import torch.nn.functional as F\n",
    "vgg16 = models.vgg16(pretrained=True)#Define a Convolution Neural Network\n",
    "for param in vgg16.parameters():   \n",
    "    param.requires_grad = False\n",
    "\n",
    "vgg16.classifier._modules['6'] = nn.Linear(4096, 256)\n",
    "vgg16 = vgg16.cuda()"
   ]
  },
  {
   "cell_type": "code",
   "execution_count": 5,
   "metadata": {
    "scrolled": false
   },
   "outputs": [
    {
     "data": {
      "text/plain": [
       "VGG (\n",
       "  (features): Sequential (\n",
       "    (0): Conv2d(3, 64, kernel_size=(3, 3), stride=(1, 1), padding=(1, 1))\n",
       "    (1): ReLU (inplace)\n",
       "    (2): Conv2d(64, 64, kernel_size=(3, 3), stride=(1, 1), padding=(1, 1))\n",
       "    (3): ReLU (inplace)\n",
       "    (4): MaxPool2d (size=(2, 2), stride=(2, 2), dilation=(1, 1))\n",
       "    (5): Conv2d(64, 128, kernel_size=(3, 3), stride=(1, 1), padding=(1, 1))\n",
       "    (6): ReLU (inplace)\n",
       "    (7): Conv2d(128, 128, kernel_size=(3, 3), stride=(1, 1), padding=(1, 1))\n",
       "    (8): ReLU (inplace)\n",
       "    (9): MaxPool2d (size=(2, 2), stride=(2, 2), dilation=(1, 1))\n",
       "    (10): Conv2d(128, 256, kernel_size=(3, 3), stride=(1, 1), padding=(1, 1))\n",
       "    (11): ReLU (inplace)\n",
       "    (12): Conv2d(256, 256, kernel_size=(3, 3), stride=(1, 1), padding=(1, 1))\n",
       "    (13): ReLU (inplace)\n",
       "    (14): Conv2d(256, 256, kernel_size=(3, 3), stride=(1, 1), padding=(1, 1))\n",
       "    (15): ReLU (inplace)\n",
       "    (16): MaxPool2d (size=(2, 2), stride=(2, 2), dilation=(1, 1))\n",
       "    (17): Conv2d(256, 512, kernel_size=(3, 3), stride=(1, 1), padding=(1, 1))\n",
       "    (18): ReLU (inplace)\n",
       "    (19): Conv2d(512, 512, kernel_size=(3, 3), stride=(1, 1), padding=(1, 1))\n",
       "    (20): ReLU (inplace)\n",
       "    (21): Conv2d(512, 512, kernel_size=(3, 3), stride=(1, 1), padding=(1, 1))\n",
       "    (22): ReLU (inplace)\n",
       "    (23): MaxPool2d (size=(2, 2), stride=(2, 2), dilation=(1, 1))\n",
       "    (24): Conv2d(512, 512, kernel_size=(3, 3), stride=(1, 1), padding=(1, 1))\n",
       "    (25): ReLU (inplace)\n",
       "    (26): Conv2d(512, 512, kernel_size=(3, 3), stride=(1, 1), padding=(1, 1))\n",
       "    (27): ReLU (inplace)\n",
       "    (28): Conv2d(512, 512, kernel_size=(3, 3), stride=(1, 1), padding=(1, 1))\n",
       "    (29): ReLU (inplace)\n",
       "    (30): MaxPool2d (size=(2, 2), stride=(2, 2), dilation=(1, 1))\n",
       "  )\n",
       "  (classifier): Sequential (\n",
       "    (0): Linear (25088 -> 4096)\n",
       "    (1): ReLU (inplace)\n",
       "    (2): Dropout (p = 0.5)\n",
       "    (3): Linear (4096 -> 4096)\n",
       "    (4): ReLU (inplace)\n",
       "    (5): Dropout (p = 0.5)\n",
       "    (6): Linear (4096 -> 256)\n",
       "  )\n",
       ")"
      ]
     },
     "execution_count": 5,
     "metadata": {},
     "output_type": "execute_result"
    }
   ],
   "source": [
    "vgg16"
   ]
  },
  {
   "cell_type": "code",
   "execution_count": 6,
   "metadata": {},
   "outputs": [],
   "source": [
    "import torch.optim as optim\n",
    "criterion = nn.CrossEntropyLoss()\n",
    "optimizer = optim.Adam(vgg16.classifier[6].parameters(),lr = 0.001)"
   ]
  },
  {
   "cell_type": "code",
   "execution_count": 7,
   "metadata": {},
   "outputs": [
    {
     "name": "stdout",
     "output_type": "stream",
     "text": [
      "At epoch  1\n",
      "Training loss is  2.06446039607\n",
      "Accuracy of the network on the training images: 83.337402 %\n",
      "Test loss is  1.32929419423\n",
      "Accuracy of the network on the test images: 69.091797 %\n",
      "At epoch  2\n",
      "Training loss is  0.640396363975\n",
      "Accuracy of the network on the training images: 90.722656 %\n",
      "Test loss is  1.32038210542\n",
      "Accuracy of the network on the test images: 69.677734 %\n",
      "At epoch  3\n",
      "Training loss is  0.367997811642\n",
      "Accuracy of the network on the training images: 93.481445 %\n",
      "Test loss is  1.38130154065\n",
      "Accuracy of the network on the test images: 70.703125 %\n",
      "At epoch  4\n",
      "Training loss is  0.2328002922\n",
      "Accuracy of the network on the training images: 95.190430 %\n",
      "Test loss is  1.42121620174\n",
      "Accuracy of the network on the test images: 70.312500 %\n",
      "At epoch  5\n",
      "Training loss is  0.17273260752\n",
      "Accuracy of the network on the training images: 96.484375 %\n",
      "Test loss is  1.4448599671\n",
      "Accuracy of the network on the test images: 71.533203 %\n",
      "At epoch  6\n",
      "Training loss is  0.150063141919\n",
      "Accuracy of the network on the training images: 96.362305 %\n",
      "Test loss is  1.4477988627\n",
      "Accuracy of the network on the test images: 71.093750 %\n",
      "At epoch  7\n",
      "Training loss is  0.127411026799\n",
      "Accuracy of the network on the training images: 97.131348 %\n",
      "Test loss is  1.48289682646\n",
      "Accuracy of the network on the test images: 71.533203 %\n",
      "At epoch  8\n",
      "Training loss is  0.108405501145\n",
      "Accuracy of the network on the training images: 97.741699 %\n",
      "Test loss is  1.52600354771\n",
      "Accuracy of the network on the test images: 70.947266 %\n",
      "At epoch  9\n",
      "Training loss is  0.084586533776\n",
      "Accuracy of the network on the training images: 98.059082 %\n",
      "Test loss is  1.57898552902\n",
      "Accuracy of the network on the test images: 70.849609 %\n",
      "At epoch  10\n",
      "Training loss is  0.0859296423441\n",
      "Accuracy of the network on the training images: 97.729492 %\n",
      "Test loss is  1.54963842768\n",
      "Accuracy of the network on the test images: 71.191406 %\n",
      "Finished Training\n"
     ]
    }
   ],
   "source": [
    "#http://pytorch.org/tutorials/beginner/blitz/cifar10_tutorial.html\n",
    "Train_acc = []\n",
    "Test_acc = []\n",
    "Train_loss = []\n",
    "Test_loss = []\n",
    "for epoch in range(10):  # loop over the dataset multiple times\n",
    "    running_loss = 0.0\n",
    "    train_loss = 0.0\n",
    "    train_data = DataLoader(\n",
    "    dataset = caltech256_train,\n",
    "    batch_size = 32,\n",
    "    shuffle = True,\n",
    "    num_workers = 4\n",
    "    )\n",
    "\n",
    "    for i, data in enumerate(train_data, 0):\n",
    "        # get the inputs\n",
    "        inputs, labels = data\n",
    "        labels = labels.view(32)\n",
    "        labels = labels.add(-1)\n",
    "        labels= labels.type(torch.LongTensor)\n",
    "        # wrap them in Variable\n",
    "        inputs, labels = Variable(inputs.cuda()), Variable(labels.cuda())\n",
    "        # zero the parameter gradients\n",
    "        optimizer.zero_grad()\n",
    "\n",
    "        # forward + backward + optimize\n",
    "        outputs = vgg16(inputs)\n",
    "        loss = criterion(outputs,labels)\n",
    "        loss.backward()\n",
    "        optimizer.step()\n",
    "\n",
    "        # print statistics\n",
    "        running_loss += loss.data[0]\n",
    "        train_loss+=loss.data[0]\n",
    "    print \"At epoch \",epoch+1\n",
    "    print \"Training loss is \",(train_loss/256)\n",
    "\n",
    "    Train_loss.append(train_loss/256)    \n",
    "    #Train\n",
    "    correct = 0\n",
    "    total = 0\n",
    "    for data in train_data:\n",
    "        images, labels = data\n",
    "        labels = labels.view(32)\n",
    "        labels = labels.add(-1)\n",
    "        labels= labels.type(torch.LongTensor)\n",
    "        outputs = vgg16(Variable(images.cuda()))\n",
    "        _,predicted = torch.max(outputs.data,1)\n",
    "        total += labels.size(0)\n",
    "        correct += (predicted == labels.cuda()).sum()\n",
    "    print('Accuracy of the network on the training images: %f %%' % (\n",
    "        100.0 * correct / total))\n",
    "    Train_acc.append(100.0 * correct / total)\n",
    "    \n",
    "    #Test\n",
    "    correct = 0\n",
    "    total = 0\n",
    "    test_loss = 0.0\n",
    "    for data in test_data:\n",
    "        images, labels = data\n",
    "        labels = labels.view(8)\n",
    "        labels = labels.add(-1)\n",
    "        labels= labels.type(torch.LongTensor)\n",
    "        outputs = vgg16(Variable(images.cuda()))\n",
    "        _,predicted = torch.max(outputs.data,1)\n",
    "        loss = criterion(outputs,Variable(labels.cuda()))\n",
    "        test_loss+=loss.data[0]\n",
    "        total += labels.size(0)\n",
    "        correct += (predicted == labels.cuda()).sum()\n",
    "    Test_loss.append(test_loss/256)\n",
    "    print \"Test loss is \",(test_loss/256)\n",
    "    print('Accuracy of the network on the test images: %f %%' % (\n",
    "        100.0 * correct / total))\n",
    "    Test_acc.append(100.0 * correct / total)\n",
    "print('Finished Training')"
   ]
  },
  {
   "cell_type": "code",
   "execution_count": 8,
   "metadata": {},
   "outputs": [
    {
     "data": {
      "image/png": "[encoded data removed]",
      "text/plain": [
       "<matplotlib.figure.Figure at 0x7fa6b5ca4b10>"
      ]
     },
     "metadata": {},
     "output_type": "display_data"
    }
   ],
   "source": [
    "import matplotlib.pyplot as plt\n",
    "plt.plot(Train_acc, label='Train Accuracy')\n",
    "plt.plot(Test_acc,label='Test Accuracy')\n",
    "plt.xlabel('epoch')\n",
    "plt.title(\"accuracy\")\n",
    "plt.legend()\n",
    "plt.show()"
   ]
  },
  {
   "cell_type": "code",
   "execution_count": 9,
   "metadata": {},
   "outputs": [
    {
     "data": {
      "image/png": "[encoded data removed]",
      "text/plain": [
       "<matplotlib.figure.Figure at 0x7fa6b5d7b110>"
      ]
     },
     "metadata": {},
     "output_type": "display_data"
    }
   ],
   "source": [
    "import matplotlib.pyplot as plt\n",
    "plt.plot(Train_loss, label='Train loss')\n",
    "plt.plot(Test_loss,label='Test loss')\n",
    "plt.xlabel('epoch')\n",
    "plt.title(\"loss\")\n",
    "plt.legend()\n",
    "plt.show()"
   ]
  },
  {
   "cell_type": "code",
   "execution_count": 10,
   "metadata": {},
   "outputs": [
    {
     "data": {
      "text/plain": [
       "Onelayer (\n",
       "  (features): Sequential (\n",
       "    (0): Conv2d(3, 64, kernel_size=(3, 3), stride=(1, 1), padding=(1, 1))\n",
       "  )\n",
       ")"
      ]
     },
     "execution_count": 10,
     "metadata": {},
     "output_type": "execute_result"
    }
   ],
   "source": [
    "class Onelayer(nn.Module):\n",
    "    def __init__(self):\n",
    "        super(Onelayer, self).__init__()\n",
    "        self.features = nn.Sequential(vgg16.features._modules['0'])\n",
    "    def forward(self, x):\n",
    "        x = self.features(x)\n",
    "        return x\n",
    "onelayer = Onelayer()\n",
    "onelayer"
   ]
  },
  {
   "cell_type": "markdown",
   "metadata": {},
   "source": [
    "Feature Extraction"
   ]
  },
  {
   "cell_type": "code",
   "execution_count": 11,
   "metadata": {},
   "outputs": [
    {
     "data": {
      "text/plain": [
       "Sequential (\n",
       "  (0): Conv2d(3, 64, kernel_size=(3, 3), stride=(1, 1), padding=(1, 1))\n",
       "  (1): ReLU (inplace)\n",
       "  (2): Conv2d(64, 64, kernel_size=(3, 3), stride=(1, 1), padding=(1, 1))\n",
       "  (3): ReLU (inplace)\n",
       "  (4): MaxPool2d (size=(2, 2), stride=(2, 2), dilation=(1, 1))\n",
       "  (5): Conv2d(64, 128, kernel_size=(3, 3), stride=(1, 1), padding=(1, 1))\n",
       "  (6): ReLU (inplace)\n",
       "  (7): Conv2d(128, 128, kernel_size=(3, 3), stride=(1, 1), padding=(1, 1))\n",
       "  (8): ReLU (inplace)\n",
       "  (9): MaxPool2d (size=(2, 2), stride=(2, 2), dilation=(1, 1))\n",
       "  (10): Conv2d(128, 256, kernel_size=(3, 3), stride=(1, 1), padding=(1, 1))\n",
       "  (11): ReLU (inplace)\n",
       "  (12): Conv2d(256, 256, kernel_size=(3, 3), stride=(1, 1), padding=(1, 1))\n",
       "  (13): ReLU (inplace)\n",
       "  (14): Conv2d(256, 256, kernel_size=(3, 3), stride=(1, 1), padding=(1, 1))\n",
       "  (15): ReLU (inplace)\n",
       "  (16): MaxPool2d (size=(2, 2), stride=(2, 2), dilation=(1, 1))\n",
       ")"
      ]
     },
     "execution_count": 11,
     "metadata": {},
     "output_type": "execute_result"
    }
   ],
   "source": [
    "#use three conv blocks\n",
    "#import pretrained VGG 16 \n",
    "#Define a Convolution Neural Network\n",
    "vgg16 = models.vgg16(pretrained=True)#Define a Convolution Neural Network\n",
    "for param in vgg16.parameters():   \n",
    "    param.requires_grad = False\n",
    "\n",
    "threeconv = nn.Sequential(*list(vgg16.features.children())[:17]) \n",
    "threeconv.cuda()"
   ]
  },
  {
   "cell_type": "code",
   "execution_count": 12,
   "metadata": {},
   "outputs": [
    {
     "data": {
      "text/plain": [
       "Sequential (\n",
       "  (0): Linear (200704 -> 1024)\n",
       "  (1): ReLU ()\n",
       "  (2): Linear (1024 -> 256)\n",
       ")"
      ]
     },
     "execution_count": 12,
     "metadata": {},
     "output_type": "execute_result"
    }
   ],
   "source": [
    "# add fc layer\n",
    "transfer_lr = torch.nn.Sequential(\n",
    "                torch.nn.Linear(200704,1024),\n",
    "                torch.nn.ReLU(),\n",
    "                torch.nn.Linear(1024,256))\n",
    "transfer_lr.cuda()"
   ]
  },
  {
   "cell_type": "code",
   "execution_count": 13,
   "metadata": {},
   "outputs": [],
   "source": [
    "import torch.optim as optim\n",
    "criterion = nn.CrossEntropyLoss()\n",
    "optimizer = optim.SGD(transfer_lr.parameters(), lr=1e-3)"
   ]
  },
  {
   "cell_type": "code",
   "execution_count": 14,
   "metadata": {},
   "outputs": [
    {
     "name": "stdout",
     "output_type": "stream",
     "text": [
      "At epoch  1\n",
      "Training loss is  5.35353818536\n",
      "Accuracy of the network on the training images: 47.387695 %\n",
      "Accuracy of the network on the test images: 10.009766 %\n",
      "Test loss is  4.82482833974\n",
      "At epoch  2\n",
      "Training loss is  2.34442340583\n",
      "Accuracy of the network on the training images: 97.509766 %\n",
      "Accuracy of the network on the test images: 16.894531 %\n",
      "Test loss is  4.3046548022\n",
      "At epoch  3\n",
      "Training loss is  0.115858497098\n",
      "Accuracy of the network on the training images: 99.987793 %\n",
      "Accuracy of the network on the test images: 25.341797 %\n",
      "Test loss is  3.78908139188\n",
      "At epoch  4\n",
      "Training loss is  0.0167684670887\n",
      "Accuracy of the network on the training images: 99.987793 %\n",
      "Accuracy of the network on the test images: 27.050781 %\n",
      "Test loss is  3.6572294631\n",
      "At epoch  5\n",
      "Training loss is  0.00894333189353\n",
      "Accuracy of the network on the training images: 99.987793 %\n",
      "Accuracy of the network on the test images: 28.125000 %\n",
      "Test loss is  3.63221757673\n",
      "At epoch  6\n",
      "Training loss is  0.0104702117969\n",
      "Accuracy of the network on the training images: 99.963379 %\n",
      "Accuracy of the network on the test images: 27.685547 %\n",
      "Test loss is  3.6677871868\n",
      "At epoch  7\n",
      "Training loss is  0.00787967111683\n",
      "Accuracy of the network on the training images: 99.987793 %\n",
      "Accuracy of the network on the test images: 26.708984 %\n",
      "Test loss is  3.69838280231\n",
      "At epoch  8\n",
      "Training loss is  0.00908527232241\n",
      "Accuracy of the network on the training images: 99.987793 %\n",
      "Accuracy of the network on the test images: 27.734375 %\n",
      "Test loss is  3.64748194488\n",
      "At epoch  9\n",
      "Training loss is  0.0085952161462\n",
      "Accuracy of the network on the training images: 99.987793 %\n",
      "Accuracy of the network on the test images: 27.636719 %\n",
      "Test loss is  3.66169714881\n",
      "At epoch  10\n",
      "Training loss is  0.00469936383888\n",
      "Accuracy of the network on the training images: 99.975586 %\n",
      "Accuracy of the network on the test images: 27.441406 %\n",
      "Test loss is  3.66006104136\n",
      "Finished Training\n"
     ]
    }
   ],
   "source": [
    "Train_acc = []\n",
    "Test_acc = []\n",
    "Train_loss = []\n",
    "Test_loss = []\n",
    "for epoch in range(10):  # loop over the dataset multiple times\n",
    "    running_loss = 0.0\n",
    "    train_loss = 0.0\n",
    "    train_data = DataLoader(\n",
    "    dataset = caltech256_train,\n",
    "    batch_size = 32,\n",
    "    shuffle = True,\n",
    "    num_workers = 4\n",
    "    )\n",
    "\n",
    "    for i, data in enumerate(train_data, 0):\n",
    "        # get the inputs\n",
    "        inputs, labels = data\n",
    "        labels = labels.view(32)\n",
    "        labels = labels.add(-1)\n",
    "        labels= labels.type(torch.LongTensor)\n",
    "        # wrap them in Variable\n",
    "        inputs, labels = Variable(inputs.cuda()), Variable(labels.cuda())\n",
    "        # zero the parameter gradients\n",
    "        optimizer.zero_grad()\n",
    "\n",
    "        # forward + backward + optimize\n",
    "        outputs = threeconv(inputs)\n",
    "        final_outputs = transfer_lr(outputs.view(-1,200704))\n",
    "    \n",
    "        loss = criterion(final_outputs,labels)\n",
    "        loss.backward()\n",
    "        optimizer.step()\n",
    "\n",
    "        # print statistics\n",
    "        running_loss += loss.data[0]\n",
    "        train_loss += loss.data[0]\n",
    "    print \"At epoch \",epoch+1\n",
    "    print \"Training loss is \",(train_loss/256)\n",
    "    Train_loss.append(train_loss/256)\n",
    "    #Train\n",
    "    correct = 0\n",
    "    total = 0\n",
    "    for data in train_data:\n",
    "        images, labels = data\n",
    "        labels = labels.view(32)\n",
    "        labels = labels.add(-1)\n",
    "        labels= labels.type(torch.LongTensor)\n",
    "        outputs = threeconv(Variable(images.cuda()))\n",
    "        final_outputs = transfer_lr(outputs.view(-1,200704))\n",
    "        _,predicted = torch.max(final_outputs.data,1)\n",
    "        total += labels.size(0)\n",
    "        correct += (predicted == labels.cuda()).sum()\n",
    "\n",
    "    print('Accuracy of the network on the training images: %f %%' % (\n",
    "        100.0 * correct / total))\n",
    "    Train_acc.append(100.0 * correct / total)\n",
    "    \n",
    "    #Test\n",
    "    correct = 0\n",
    "    total = 0\n",
    "    test_loss = 0.0\n",
    "    for data in test_data:\n",
    "        images, labels = data\n",
    "        labels = labels.view(8)\n",
    "        labels = labels.add(-1)\n",
    "        labels= labels.type(torch.LongTensor)\n",
    "        outputs = threeconv(Variable(images.cuda()))\n",
    "        final_outputs = transfer_lr(outputs.view(-1,200704))\n",
    "        _,predicted = torch.max(final_outputs.data,1)\n",
    "        loss = criterion(final_outputs,Variable(labels.cuda()))\n",
    "        test_loss += loss.data[0]\n",
    "        total += labels.size(0)\n",
    "        correct += (predicted == labels.cuda()).sum()\n",
    "\n",
    "    print('Accuracy of the network on the test images: %f %%' % (\n",
    "        100.0 * correct / total))\n",
    "    print \"Test loss is \",(test_loss/256)\n",
    "    Test_acc.append(100.0 * correct / total)\n",
    "    Test_loss.append(test_loss/256)\n",
    "print('Finished Training')"
   ]
  },
  {
   "cell_type": "code",
   "execution_count": 15,
   "metadata": {},
   "outputs": [
    {
     "data": {
      "image/png": "[encoded data removed]",
      "text/plain": [
       "<matplotlib.figure.Figure at 0x7fa6b5c7b750>"
      ]
     },
     "metadata": {},
     "output_type": "display_data"
    }
   ],
   "source": [
    "import matplotlib.pyplot as plt\n",
    "plt.plot(Train_acc, label='Train Accuracy')\n",
    "plt.plot(Test_acc,label='Test Accuracy')\n",
    "plt.xlabel('epoch')\n",
    "plt.title(\"accuracy\")\n",
    "plt.legend()\n",
    "plt.show()"
   ]
  },
  {
   "cell_type": "code",
   "execution_count": 16,
   "metadata": {},
   "outputs": [
    {
     "data": {
      "image/png": "[encoded data removed]",
      "text/plain": [
       "<matplotlib.figure.Figure at 0x7fa6b5bf2050>"
      ]
     },
     "metadata": {},
     "output_type": "display_data"
    }
   ],
   "source": [
    "import matplotlib.pyplot as plt\n",
    "plt.plot(Train_loss, label='Train loss')\n",
    "plt.plot(Test_loss,label='Test loss')\n",
    "plt.xlabel('epoch')\n",
    "plt.title(\"loss\")\n",
    "plt.legend()\n",
    "plt.show()"
   ]
  },
  {
   "cell_type": "code",
   "execution_count": 17,
   "metadata": {},
   "outputs": [],
   "source": [
    "####fourblock\n",
    "vgg16 = models.vgg16(pretrained=True)#Define a Convolution Neural Network\n",
    "for param in vgg16.parameters():   \n",
    "    param.requires_grad = False\n",
    "fourconv = nn.Sequential(*list(vgg16.features.children())[:24]) \n",
    "fourconv.cuda()\n",
    "transfer_lr = torch.nn.Sequential(\n",
    "                torch.nn.Linear(14*14*512,1024),\n",
    "                torch.nn.ReLU(),\n",
    "                torch.nn.Linear(1024,256))\n",
    "transfer_lr.cuda()\n",
    "criterion = nn.CrossEntropyLoss()\n",
    "optimizer = optim.SGD(transfer_lr.parameters(), lr=1e-3, momentum=0.9)\n"
   ]
  },
  {
   "cell_type": "code",
   "execution_count": 18,
   "metadata": {},
   "outputs": [
    {
     "name": "stdout",
     "output_type": "stream",
     "text": [
      "At epoch  1\n",
      "Training loss is  3.87660641316\n",
      "Accuracy of the network on the training images: 92.883301 %\n",
      "Accuracy of the network on the test images: 37.646484 %\n",
      "Test loss is  2.88420059555\n",
      "At epoch  2\n",
      "Training loss is  0.189472048369\n",
      "Accuracy of the network on the training images: 99.829102 %\n",
      "Accuracy of the network on the test images: 45.996094 %\n",
      "Test loss is  2.40476833633\n",
      "At epoch  3\n",
      "Training loss is  0.0160956440959\n",
      "Accuracy of the network on the training images: 99.865723 %\n",
      "Accuracy of the network on the test images: 51.220703 %\n",
      "Test loss is  2.16163305053\n",
      "At epoch  4\n",
      "Training loss is  0.00900301057845\n",
      "Accuracy of the network on the training images: 99.987793 %\n",
      "Accuracy of the network on the test images: 52.392578 %\n",
      "Test loss is  2.1030043792\n",
      "At epoch  5\n",
      "Training loss is  0.00650904659415\n",
      "Accuracy of the network on the training images: 99.987793 %\n",
      "Accuracy of the network on the test images: 52.685547 %\n",
      "Test loss is  2.09109395114\n",
      "At epoch  6\n",
      "Training loss is  0.00352663139347\n",
      "Accuracy of the network on the training images: 99.987793 %\n",
      "Accuracy of the network on the test images: 52.539062 %\n",
      "Test loss is  2.09594640345\n",
      "At epoch  7\n",
      "Training loss is  0.00423996255267\n",
      "Accuracy of the network on the training images: 99.987793 %\n",
      "Accuracy of the network on the test images: 53.076172 %\n",
      "Test loss is  2.08706363081\n",
      "At epoch  8\n",
      "Training loss is  0.00283687270712\n",
      "Accuracy of the network on the training images: 99.987793 %\n",
      "Accuracy of the network on the test images: 52.978516 %\n",
      "Test loss is  2.09485492925\n",
      "At epoch  9\n",
      "Training loss is  0.00315685244277\n",
      "Accuracy of the network on the training images: 99.877930 %\n",
      "Accuracy of the network on the test images: 52.685547 %\n",
      "Test loss is  2.13866158563\n",
      "At epoch  10\n",
      "Training loss is  0.00425825081766\n",
      "Accuracy of the network on the training images: 99.987793 %\n",
      "Accuracy of the network on the test images: 53.320312 %\n",
      "Test loss is  2.08574606478\n",
      "Finished Training\n"
     ]
    }
   ],
   "source": [
    "Train_acc = []\n",
    "Test_acc = []\n",
    "Train_loss = []\n",
    "Test_loss = []\n",
    "for epoch in range(10):  # loop over the dataset multiple times\n",
    "    running_loss = 0.0\n",
    "    train_loss = 0.0\n",
    "    train_data = DataLoader(\n",
    "    dataset = caltech256_train,\n",
    "    batch_size = 32,\n",
    "    shuffle = True,\n",
    "    num_workers = 4\n",
    "    )\n",
    "\n",
    "    for i, data in enumerate(train_data, 0):\n",
    "        # get the inputs\n",
    "        inputs, labels = data\n",
    "        labels = labels.view(32)\n",
    "        labels = labels.add(-1)\n",
    "        labels= labels.type(torch.LongTensor)\n",
    "        # wrap them in Variable\n",
    "        inputs, labels = Variable(inputs.cuda()), Variable(labels.cuda())\n",
    "        # zero the parameter gradients\n",
    "        optimizer.zero_grad()\n",
    "\n",
    "        # forward + backward + optimize\n",
    "        outputs = fourconv(inputs)\n",
    "        final_outputs = transfer_lr(outputs.view(-1,14*14*512))\n",
    "        loss = criterion(final_outputs,labels)\n",
    "        loss.backward()\n",
    "        optimizer.step()\n",
    "\n",
    "        # print statistics\n",
    "        running_loss += loss.data[0]\n",
    "        train_loss += loss.data[0]\n",
    "    print \"At epoch \",epoch+1\n",
    "    print \"Training loss is \",(train_loss/256)\n",
    "    Train_loss.append(train_loss/256)\n",
    "\n",
    "    #Train\n",
    "    correct = 0\n",
    "    total = 0\n",
    "    for data in train_data:\n",
    "        images, labels = data\n",
    "        labels = labels.view(32)\n",
    "        labels = labels.add(-1)\n",
    "        labels= labels.type(torch.LongTensor)\n",
    "        outputs = fourconv(Variable(images.cuda()))\n",
    "        final_outputs = transfer_lr(outputs.view(-1,14*14*512))\n",
    "        _,predicted = torch.max(final_outputs.data,1)\n",
    "        total += labels.size(0)\n",
    "        correct += (predicted == labels.cuda()).sum()\n",
    "    print('Accuracy of the network on the training images: %f %%' % (\n",
    "        100.0 * correct / total))\n",
    "    Train_acc.append(100.0 * correct / total)\n",
    "    \n",
    "    #Test\n",
    "    correct = 0\n",
    "    total = 0\n",
    "    test_loss = 0.0\n",
    "    for data in test_data:\n",
    "        images, labels = data\n",
    "        labels = labels.view(8)\n",
    "        labels = labels.add(-1)\n",
    "        labels= labels.type(torch.LongTensor)\n",
    "        outputs = fourconv(Variable(images.cuda()))\n",
    "        final_outputs = transfer_lr(outputs.view(-1,14*14*512))\n",
    "        loss = criterion(final_outputs,Variable(labels).cuda())\n",
    "        _,predicted = torch.max(final_outputs.data,1)\n",
    "        total += labels.size(0)\n",
    "        correct += (predicted == labels.cuda()).sum()\n",
    "        test_loss += loss.data[0]\n",
    "\n",
    "    print('Accuracy of the network on the test images: %f %%' % (\n",
    "        100.0 * correct / total))\n",
    "    print \"Test loss is \",(test_loss/256)\n",
    "    Test_acc.append(100.0 * correct / total)\n",
    "    Test_loss.append(test_loss/256)\n",
    "print('Finished Training')"
   ]
  },
  {
   "cell_type": "code",
   "execution_count": 19,
   "metadata": {},
   "outputs": [
    {
     "data": {
      "image/png": "[encoded data removed]",
      "text/plain": [
       "<matplotlib.figure.Figure at 0x7fa6b5b6da50>"
      ]
     },
     "metadata": {},
     "output_type": "display_data"
    }
   ],
   "source": [
    "import matplotlib.pyplot as plt\n",
    "\n",
    "plt.plot(Train_acc, label='Train Accuracy')\n",
    "plt.plot(Test_acc,label='Test Accuracy')\n",
    "plt.xlabel('epoch')\n",
    "plt.title(\"accuracy\")\n",
    "plt.legend()\n",
    "plt.show()"
   ]
  },
  {
   "cell_type": "code",
   "execution_count": 20,
   "metadata": {},
   "outputs": [
    {
     "data": {
      "image/png": "[encoded data removed]",
      "text/plain": [
       "<matplotlib.figure.Figure at 0x7fa6b8f22350>"
      ]
     },
     "metadata": {},
     "output_type": "display_data"
    }
   ],
   "source": [
    "import matplotlib.pyplot as plt\n",
    "plt.plot(Train_loss, label='Train loss')\n",
    "plt.plot(Test_loss,label='Test loss')\n",
    "plt.xlabel('epoch')\n",
    "plt.title(\"loss\")\n",
    "plt.legend()\n",
    "plt.show()"
   ]
  },
  {
   "cell_type": "code",
   "execution_count": null,
   "metadata": {},
   "outputs": [],
   "source": []
  }
 ],
 "metadata": {
  "kernelspec": {
   "display_name": "Python 2",
   "language": "python",
   "name": "python2"
  },
  "language_info": {
   "codemirror_mode": {
    "name": "ipython",
    "version": 2
   },
   "file_extension": ".py",
   "mimetype": "text/x-python",
   "name": "python",
   "nbconvert_exporter": "python",
   "pygments_lexer": "ipython2",
   "version": "2.7.14"
  }
 },
 "nbformat": 4,
 "nbformat_minor": 2
}
