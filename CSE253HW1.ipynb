{
 "cells": [
  {
   "cell_type": "code",
   "execution_count": 1,
   "metadata": {
    "collapsed": true
   },
   "outputs": [],
   "source": [
    "import numpy as np\n",
    "import pandas as pd\n",
    "import matplotlib.pyplot as plt\n",
    "import math"
   ]
  },
  {
   "cell_type": "code",
   "execution_count": 2,
   "metadata": {
    "collapsed": true
   },
   "outputs": [],
   "source": [
    "from mnist import MNIST\n",
    "mndata = MNIST('./mnistdata')\n",
    "Train_images, Train_labels = mndata.load_training()\n",
    "Test_images, Test_labels = mndata.load_testing()"
   ]
  },
  {
   "cell_type": "code",
   "execution_count": 3,
   "metadata": {
    "collapsed": true
   },
   "outputs": [],
   "source": [
    "Train_X = np.array(Train_images[0:20000]).T\n",
    "Train_Y = np.array(Train_labels[0:20000],ndmin=2)\n",
    "Test_X = np.array(Test_images[-2000:]).T\n",
    "Test_Y = np.array(Test_labels[-2000:],ndmin=2)"
   ]
  },
  {
   "cell_type": "code",
   "execution_count": 4,
   "metadata": {
    "collapsed": true
   },
   "outputs": [],
   "source": [
    "#extract 2 and 3 from training data\n",
    "Train=np.concatenate((Train_X,Train_Y),axis=0)\n",
    "df=pd.DataFrame(Train.T)\n",
    "last_column = df.columns[-1]\n",
    "df.rename(columns={last_column:'label'}, inplace=True)\n",
    "index_2s = df['label'] == 2\n",
    "index_3s = df['label'] == 3\n",
    "Train_2_3 = df.loc[index_2s | index_3s]\n",
    "Train_2_3_X=Train_2_3.drop(['label'],axis=1).as_matrix()\n",
    "Train_2_3_Y=Train_2_3['label'].as_matrix()\n",
    "Train_2_3_X=Train_2_3_X.T"
   ]
  },
  {
   "cell_type": "code",
   "execution_count": 5,
   "metadata": {
    "collapsed": true
   },
   "outputs": [],
   "source": [
    "#extract 2 and 3 from test data\n",
    "Test=np.concatenate((Test_X,Test_Y),axis=0)\n",
    "df_test=pd.DataFrame(Test.T)\n",
    "last_column = df_test.columns[-1]\n",
    "df_test.rename(columns={last_column:'label'}, inplace=True)\n",
    "index_2s = df_test['label'] == 2\n",
    "index_3s = df_test['label'] == 3\n",
    "Test_2_3 = df_test.loc[index_2s | index_3s]\n",
    "Test_2_3_X=Test_2_3.drop(['label'],axis=1).as_matrix()\n",
    "Test_2_3_Y=Test_2_3['label'].as_matrix()\n",
    "Test_2_3_X=Test_2_3_X.T"
   ]
  },
  {
   "cell_type": "code",
   "execution_count": 6,
   "metadata": {
    "collapsed": true
   },
   "outputs": [],
   "source": [
    "Train_2_3_Y=abs(Train_2_3_Y-3) ##change 2 to label 1, change 3 to label 0\n",
    "Test_2_3_Y=abs(Test_2_3_Y-3)"
   ]
  },
  {
   "cell_type": "code",
   "execution_count": 7,
   "metadata": {
    "collapsed": true
   },
   "outputs": [],
   "source": [
    "# add bias to train and divide 255\n",
    "Train_2_3_X=Train_2_3_X/255.0\n",
    "Test_2_3_X=Test_2_3_X/255.0\n",
    "one=np.ones((1,Train_2_3_X.shape[1]))\n",
    "Train_2_3_X=np.concatenate((one,Train_2_3_X),axis=0)\n",
    "one=np.ones((1,Test_2_3_X.shape[1]))\n",
    "Test_2_3_X=np.concatenate((one,Test_2_3_X),axis=0)"
   ]
  },
  {
   "cell_type": "code",
   "execution_count": 8,
   "metadata": {
    "collapsed": true
   },
   "outputs": [],
   "source": [
    "#shuffle data\n",
    "shuffle_index = list(np.random.permutation(Train_2_3_X.shape[1]))\n",
    "Train_2_3_X = Train_2_3_X[:, shuffle_index]\n",
    "Train_2_3_Y = Train_2_3_Y[shuffle_index]\n"
   ]
  },
  {
   "cell_type": "code",
   "execution_count": 9,
   "metadata": {},
   "outputs": [
    {
     "data": {
      "text/plain": [
       "(785, 4005)"
      ]
     },
     "execution_count": 9,
     "metadata": {},
     "output_type": "execute_result"
    }
   ],
   "source": [
    "Train_2_3_X.shape"
   ]
  },
  {
   "cell_type": "code",
   "execution_count": 10,
   "metadata": {},
   "outputs": [
    {
     "name": "stdout",
     "output_type": "stream",
     "text": [
      "(785, 3600) (785, 405) (3600,) (405,)\n"
     ]
    }
   ],
   "source": [
    "##add hold out set\n",
    "Train_2_3_X_hold = Train_2_3_X[:,Train_2_3_X.shape[1]/10*9:]\n",
    "Train_2_3_X = Train_2_3_X[:,:Train_2_3_X.shape[1]/10*9]\n",
    "Train_2_3_Y_hold = Train_2_3_Y[len(Train_2_3_Y)/10*9:]\n",
    "Train_2_3_Y = Train_2_3_Y[:len(Train_2_3_Y)/10*9]\n",
    "#w=np.random.randn(Train_2_3_X.shape[0],1)*0.001 # initialize weights\n",
    "w=np.zeros((Train_2_3_X.shape[0],1))\n",
    "Train_2_3_Y.reshape((1,len(Train_2_3_Y)))\n",
    "Test_2_3_Y.reshape((1,len(Test_2_3_Y)))\n",
    "print Train_2_3_X.shape , Train_2_3_X_hold.shape,Train_2_3_Y.shape,Train_2_3_Y_hold.shape"
   ]
  },
  {
   "cell_type": "code",
   "execution_count": 11,
   "metadata": {
    "collapsed": true
   },
   "outputs": [],
   "source": [
    "def sigmoid(x):\n",
    "    return 1.0/(1.0+np.exp(-x))\n",
    "\n",
    "def cal_wx(w,x):\n",
    "    return np.dot(w.T,x)\n",
    "\n",
    "#y=sigmoid(cal_wx(w,x))"
   ]
  },
  {
   "cell_type": "code",
   "execution_count": 12,
   "metadata": {
    "collapsed": true
   },
   "outputs": [],
   "source": [
    "def cross_entropy(w,x,y):\n",
    "    t=sigmoid(cal_wx(w,x)) # calculate activation\n",
    "    cost_E= -1.0/(x.shape[1]) * np.sum(y*np.log(t)+(1-y)*np.log(1-t)) #calculate cost E\n",
    "    dw = 1.0/(x.shape[1])*np.dot((y-t),x.T)\n",
    "    return cost_E,dw"
   ]
  },
  {
   "cell_type": "code",
   "execution_count": 13,
   "metadata": {
    "collapsed": true
   },
   "outputs": [],
   "source": [
    "def mini_batches(x, y, mini_batch_size = 256):\n",
    "    \n",
    "    m = x.shape[1]                  \n",
    "    mini_batches = []\n",
    "        \n",
    "    #calculate number of complete batches\n",
    "    num_complete_minibatches = m//mini_batch_size \n",
    "    for k in range(0, num_complete_minibatches):\n",
    "        mini_batch_x = x[:,k * mini_batch_size:(k + 1) * mini_batch_size]\n",
    "        mini_batch_y = y[k * mini_batch_size:(k + 1) * mini_batch_size]\n",
    "        mini_batch = (mini_batch_x, mini_batch_y)\n",
    "        mini_batches.append(mini_batch)\n",
    "    \n",
    "    if m % mini_batch_size != 0:\n",
    "        end = m - mini_batch_size * math.floor(m / mini_batch_size)\n",
    "        mini_batch_x = x[:,num_complete_minibatches * mini_batch_size:]\n",
    "        mini_batch_y = y[num_complete_minibatches * mini_batch_size:]\n",
    "        mini_batch = (mini_batch_x, mini_batch_y)\n",
    "        mini_batches.append(mini_batch)\n",
    "    \n",
    "    return mini_batches"
   ]
  },
  {
   "cell_type": "code",
   "execution_count": 14,
   "metadata": {
    "collapsed": true
   },
   "outputs": [],
   "source": [
    "def optimize(w, x, y, x_hold,y_hold, num_iterations, learning_rate):\n",
    "    costs = []\n",
    "    costs_hold=[]\n",
    "    for i in range(num_iterations):\n",
    "        \n",
    "        # Cost and gradient calculation (add regualarization)\n",
    "        cost_E,dw=cross_entropy(w,x,y)   \n",
    "        cost_E_hold,_=cross_entropy(w,x_hold,y_hold)\n",
    "        \n",
    "        # update weights\n",
    "        w = w+learning_rate*dw.T\n",
    "        learning_rate/=(1+i/1000)\n",
    "        \n",
    "        # Record the costs\n",
    "        if i % 20 == 0:\n",
    "            costs.append(cost_E)\n",
    "            costs_hold.append(cost_E_hold)\n",
    "            print (\"Cost after iteration %i: %f\" %(i, cost_E))\n",
    "        \n",
    "    return  w,costs,costs_hold"
   ]
  },
  {
   "cell_type": "code",
   "execution_count": 15,
   "metadata": {
    "collapsed": true
   },
   "outputs": [],
   "source": [
    "w=np.random.randn(Train_2_3_X.shape[0],1)*0.001 # initialize weights\n",
    "def optimize_reg(w, x, y, x_hold,y_hold, x_test,y_test,num_iterations, learning_rate ,reg):\n",
    "    costs = []\n",
    "    costs_hold = []\n",
    "    costs_test = []\n",
    "    accuracy_train = []\n",
    "    accuracy_hold = []\n",
    "    accuracy_test = []\n",
    "    for i in range(num_iterations):\n",
    "        # Cost and gradient calculation (add regualarization)\n",
    "        cost_E,dw=cross_entropy(w,x,y)   \n",
    "        cost_E+=0.5*reg*np.sum(w**2)  # add regularization  \n",
    "        dw+=reg*w.T\n",
    "        \n",
    "        #cost for hold out\n",
    "        cost_E_hold,_=cross_entropy(w,x_hold,y_hold) \n",
    "        cost_E_hold += 0.5*reg*np.sum(abs(w))\n",
    "        \n",
    "        #cost for test\n",
    "        cost_E_test,_=cross_entropy(w,x_test,y_test)\n",
    "        cost_E_test += 0.5*reg*np.sum(abs(w))\n",
    "        \n",
    "        #update weights\n",
    "        w = w+learning_rate*dw.T\n",
    "        learning_rate/=(1+i/1000) #learning rate decay\n",
    "        \n",
    "        #calculate accuracy \n",
    "        _, acc_train = prediction(w,x,y)\n",
    "        _, acc_hold = prediction(w,x_hold,y_hold)\n",
    "        _, acc_test = prediction(w,x_test,y_test)\n",
    "\n",
    "        \n",
    "\n",
    "        # Record the costs and acc\n",
    "        if i % 20 == 0:\n",
    "            costs.append(cost_E)\n",
    "            costs_hold.append(cost_E_hold)\n",
    "            costs_test.append(cost_E_test)\n",
    "            accuracy_train.append(acc_train)\n",
    "            accuracy_hold.append(acc_hold)\n",
    "            accuracy_test.append(acc_test)\n",
    "            print \"Train Cost after iteration %i: %f\" %(i, cost_E)\n",
    "            print \"Accuracy for train is \", acc_train\n",
    "           # print \"Accuracy for hold is \", acc_hold\n",
    "            #print \"Accuracy for test is \", acc_test\n",
    "            \n",
    "        \n",
    "    return  w,costs,costs_hold,costs_test,accuracy_train,accuracy_hold,accuracy_test\n",
    "\n",
    "def prediction(w,x,y):\n",
    "    prediction=sigmoid(cal_wx(w,x))\n",
    "    predict=np.zeros_like(prediction)\n",
    "    for index,number in enumerate(prediction[0]):\n",
    "        if number>=0.5:\n",
    "            predict[0,index]=1\n",
    "        else:\n",
    "            predict[0,index]=0\n",
    "    #calculate accuracy\n",
    "    correct = [(a==b) for (a,b) in zip(predict[0],y)]\n",
    "    acc = sum(correct) * 1.0 / len(correct)\n",
    "    return predict , acc"
   ]
  },
  {
   "cell_type": "code",
   "execution_count": 16,
   "metadata": {
    "collapsed": true
   },
   "outputs": [],
   "source": [
    "w=np.random.randn(Train_2_3_X.shape[0],1)*0.001 # initialize weights\n",
    "\n",
    "def mini_optimize_reg(w, x, y, x_hold,y_hold, x_test,y_test,num_epochs, learning_rate ,reg,mini_batch_size=256):\n",
    "    costs = []\n",
    "    costs_hold = []\n",
    "    costs_test = []\n",
    "    accuracy_train = []\n",
    "    accuracy_hold = []\n",
    "    accuracy_test = []\n",
    "    cost_epoch = []\n",
    "    for i in range(num_epochs):\n",
    "        \n",
    "        minibatches = mini_batches(x, y, mini_batch_size )\n",
    "        \n",
    "        for minibatch in minibatches:\n",
    "            (minibatch_x, minibatch_y) = minibatch\n",
    "            _,dw=cross_entropy(w,minibatch_x,minibatch_y)   \n",
    "            #cost_E+=0.5*reg*np.sum(w**2)  # add regularization  \n",
    "            dw += reg*w.T\n",
    "            \n",
    "            #update weights\n",
    "            w = w+learning_rate*dw.T\n",
    "            learning_rate/=(1+i/1000) #learning rate decay\n",
    "        \n",
    "\n",
    "        # Cost for train\n",
    "        cost_E,_ = cross_entropy(w,x,y)   \n",
    "        cost_E += 0.5*reg*np.sum(w**2)\n",
    " \n",
    "        \n",
    "        #cost for hold out\n",
    "        cost_E_hold,_=cross_entropy(w,x_hold,y_hold) \n",
    "        cost_E_hold += 0.5*reg*np.sum(w**2)\n",
    "        \n",
    "        #cost for test\n",
    "        cost_E_test,_=cross_entropy(w,x_test,y_test)\n",
    "        cost_E_test += 0.5*reg*np.sum(w**2)\n",
    "    \n",
    "        #early stop\n",
    "    \n",
    "        if i > 5:\n",
    "            if cost_epoch[-5:] == sorted(cost_epoch[-5:]):\n",
    "                break\n",
    "        cost_epoch.append(cost_E_hold)       \n",
    "        #calculate accuracy \n",
    "        _, acc_train = prediction(w,x,y)\n",
    "        _, acc_hold = prediction(w,x_hold,y_hold)\n",
    "        _, acc_test = prediction(w,x_test,y_test)\n",
    "\n",
    "     \n",
    "        # Record the costs and acc\n",
    "        if i % 20 == 0:\n",
    "            costs.append(cost_E)\n",
    "            costs_hold.append(cost_E_hold)\n",
    "            costs_test.append(cost_E_test)\n",
    "            accuracy_train.append(acc_train)\n",
    "            accuracy_hold.append(acc_hold)\n",
    "            accuracy_test.append(acc_test)\n",
    "            print \"Train Cost after iteration %i: %f\" %(i, cost_E)\n",
    "            print \"Accuracy for train is \", acc_train\n",
    "           # print \"Accuracy for hold is \", acc_hold\n",
    "            #print \"Accuracy for test is \", acc_test\n",
    "            \n",
    "        \n",
    "    return  w,costs,costs_hold,costs_test,accuracy_train,accuracy_hold,accuracy_test"
   ]
  },
  {
   "cell_type": "code",
   "execution_count": 17,
   "metadata": {},
   "outputs": [
    {
     "name": "stdout",
     "output_type": "stream",
     "text": [
      "Train Cost after iteration 0: 0.614399\n",
      "Accuracy for train is  0.917777777778\n",
      "Train Cost after iteration 20: 0.245995\n",
      "Accuracy for train is  0.942777777778\n",
      "Train Cost after iteration 40: 0.192802\n",
      "Accuracy for train is  0.948888888889\n",
      "Train Cost after iteration 60: 0.170445\n",
      "Accuracy for train is  0.951944444444\n",
      "Train Cost after iteration 80: 0.157935\n",
      "Accuracy for train is  0.953611111111\n",
      "Train Cost after iteration 100: 0.149934\n",
      "Accuracy for train is  0.956388888889\n",
      "Train Cost after iteration 120: 0.144412\n",
      "Accuracy for train is  0.957222222222\n",
      "Train Cost after iteration 140: 0.140419\n",
      "Accuracy for train is  0.957777777778\n",
      "Train Cost after iteration 160: 0.137446\n",
      "Accuracy for train is  0.958888888889\n",
      "Train Cost after iteration 180: 0.135193\n",
      "Accuracy for train is  0.96\n",
      "Train Cost after iteration 200: 0.133473\n",
      "Accuracy for train is  0.959722222222\n",
      "Train Cost after iteration 220: 0.132163\n",
      "Accuracy for train is  0.961944444444\n",
      "Train Cost after iteration 240: 0.131177\n",
      "Accuracy for train is  0.961944444444\n",
      "Train Cost after iteration 260: 0.130454\n",
      "Accuracy for train is  0.9625\n",
      "Train Cost after iteration 280: 0.129949\n",
      "Accuracy for train is  0.963333333333\n",
      "Train Cost after iteration 300: 0.129631\n",
      "Accuracy for train is  0.965\n",
      "Train Cost after iteration 320: 0.129472\n",
      "Accuracy for train is  0.965555555556\n"
     ]
    }
   ],
   "source": [
    "w,costs,costs_hold,costs_test,accuracy_train,accuracy_hold,accuracy_test=mini_optimize_reg(w, Train_2_3_X, Train_2_3_Y, Train_2_3_X_hold,Train_2_3_Y_hold, Test_2_3_X,Test_2_3_Y,num_epochs=1000, learning_rate=0.005 ,reg=0.01,mini_batch_size=256)"
   ]
  },
  {
   "cell_type": "code",
   "execution_count": 18,
   "metadata": {},
   "outputs": [
    {
     "name": "stdout",
     "output_type": "stream",
     "text": [
      "Train Cost after iteration 0: 0.111668\n",
      "Accuracy for train is  0.964722222222\n",
      "Train Cost after iteration 20: 0.111519\n",
      "Accuracy for train is  0.964722222222\n",
      "Train Cost after iteration 40: 0.111372\n",
      "Accuracy for train is  0.965\n",
      "Train Cost after iteration 60: 0.111227\n",
      "Accuracy for train is  0.965\n",
      "Train Cost after iteration 80: 0.111084\n",
      "Accuracy for train is  0.965\n",
      "Train Cost after iteration 100: 0.110942\n",
      "Accuracy for train is  0.965277777778\n",
      "Train Cost after iteration 120: 0.110802\n",
      "Accuracy for train is  0.965277777778\n",
      "Train Cost after iteration 140: 0.110662\n",
      "Accuracy for train is  0.965277777778\n",
      "Train Cost after iteration 160: 0.110525\n",
      "Accuracy for train is  0.965277777778\n",
      "Train Cost after iteration 180: 0.110388\n",
      "Accuracy for train is  0.965277777778\n",
      "Train Cost after iteration 200: 0.110252\n",
      "Accuracy for train is  0.965277777778\n",
      "Train Cost after iteration 220: 0.110117\n",
      "Accuracy for train is  0.965277777778\n",
      "Train Cost after iteration 240: 0.109983\n",
      "Accuracy for train is  0.965277777778\n",
      "Train Cost after iteration 260: 0.109850\n",
      "Accuracy for train is  0.965555555556\n",
      "Train Cost after iteration 280: 0.109718\n",
      "Accuracy for train is  0.965555555556\n",
      "Train Cost after iteration 300: 0.109587\n",
      "Accuracy for train is  0.965555555556\n",
      "Train Cost after iteration 320: 0.109457\n",
      "Accuracy for train is  0.965555555556\n",
      "Train Cost after iteration 340: 0.109328\n",
      "Accuracy for train is  0.965555555556\n",
      "Train Cost after iteration 360: 0.109200\n",
      "Accuracy for train is  0.965555555556\n",
      "Train Cost after iteration 380: 0.109072\n",
      "Accuracy for train is  0.965555555556\n",
      "Train Cost after iteration 400: 0.108946\n",
      "Accuracy for train is  0.965555555556\n",
      "Train Cost after iteration 420: 0.108820\n",
      "Accuracy for train is  0.965555555556\n",
      "Train Cost after iteration 440: 0.108695\n",
      "Accuracy for train is  0.965555555556\n",
      "Train Cost after iteration 460: 0.108571\n",
      "Accuracy for train is  0.965833333333\n",
      "Train Cost after iteration 480: 0.108448\n",
      "Accuracy for train is  0.965833333333\n"
     ]
    }
   ],
   "source": [
    "w,costs,costs_hold,costs_test,accuracy_train,accuracy_hold,accuracy_test = optimize_reg(w, Train_2_3_X, Train_2_3_Y, Train_2_3_X_hold,Train_2_3_Y_hold,Test_2_3_X,Test_2_3_Y, num_iterations= 500, learning_rate = 0.005,reg=0.0)"
   ]
  },
  {
   "cell_type": "code",
   "execution_count": 18,
   "metadata": {},
   "outputs": [
    {
     "name": "stdout",
     "output_type": "stream",
     "text": [
      "acc_train 0.961111111111\n",
      "acc_hold 0.962962962963\n",
      "acc_test 0.967901234568\n"
     ]
    }
   ],
   "source": [
    "predict_train, acc_train=prediction(w,Train_2_3_X,Train_2_3_Y)\n",
    "#print \"predict_train\",  predict_train\n",
    "print \"acc_train\", acc_train\n",
    "\n",
    "predict_hold, acc_hold=prediction(w,Train_2_3_X_hold,Train_2_3_Y_hold)\n",
    "print \"acc_hold\", acc_hold\n",
    "\n",
    "predict_test, acc_test=prediction(w,Test_2_3_X,Test_2_3_Y)\n",
    "#print \"predict_test\",  predict_test\n",
    "print \"acc_test\", acc_test"
   ]
  },
  {
   "cell_type": "code",
   "execution_count": 18,
   "metadata": {},
   "outputs": [
    {
     "data": {
      "image/png": "[encoded data removed]",
      "text/plain": [
       "<matplotlib.figure.Figure at 0x11a7d52d0>"
      ]
     },
     "metadata": {},
     "output_type": "display_data"
    }
   ],
   "source": [
    "costs = np.squeeze(costs)\n",
    "costs_hold = np.squeeze(costs_hold)\n",
    "costs_test = np.squeeze(costs_test)\n",
    "plt.plot(costs,color = 'blue',label='Training Cost')\n",
    "plt.plot(costs_hold,color = 'red',label='Holdout Cost')\n",
    "plt.plot(costs_test,color = 'green',label='Test Cost')\n",
    "plt.ylabel('cost')\n",
    "plt.xlabel('iterations (per twenty epochs)')\n",
    "plt.title(\"Learning rate =\" + str(0.005))\n",
    "plt.legend()\n",
    "\n",
    "plt.show()"
   ]
  },
  {
   "cell_type": "code",
   "execution_count": 19,
   "metadata": {},
   "outputs": [
    {
     "data": {
      "image/png": "[encoded data removed]",
      "text/plain": [
       "<matplotlib.figure.Figure at 0x113853c50>"
      ]
     },
     "metadata": {},
     "output_type": "display_data"
    }
   ],
   "source": [
    "plt.plot(accuracy_train, label='Train Accuracy')\n",
    "plt.plot(accuracy_hold, label='Holdout Accuracy')\n",
    "plt.plot(accuracy_test,label='Test Accuracy')\n",
    "\n",
    "plt.xlabel('iterations (per twenty epochs)')\n",
    "plt.title(\"accuracy\")\n",
    "plt.legend()\n",
    "plt.show()"
   ]
  },
  {
   "cell_type": "code",
   "execution_count": 21,
   "metadata": {},
   "outputs": [
    {
     "data": {
      "image/png": "[encoded data removed]",
      "text/plain": [
       "<matplotlib.figure.Figure at 0x10e6d1510>"
      ]
     },
     "metadata": {},
     "output_type": "display_data"
    }
   ],
   "source": [
    "wp=w[1:].reshape((28,28))\n",
    "plt.imshow(wp)\n",
    "plt.title(\"weights of 2 vs 3\")\n",
    "plt.show()\n",
    "\n"
   ]
  },
  {
   "cell_type": "code",
   "execution_count": 22,
   "metadata": {
    "collapsed": true
   },
   "outputs": [],
   "source": [
    "#2 and 8\n",
    "Train_X = np.array(Train_images[0:20000]).T\n",
    "Train_Y = np.array(Train_labels[0:20000],ndmin=2)\n",
    "Test_X = np.array(Test_images[-2000:]).T\n",
    "Test_Y = np.array(Test_labels[-2000:],ndmin=2)"
   ]
  },
  {
   "cell_type": "code",
   "execution_count": 23,
   "metadata": {
    "collapsed": true
   },
   "outputs": [],
   "source": [
    "#extract 2 and 8 from training data\n",
    "Train=np.concatenate((Train_X,Train_Y),axis=0)\n",
    "df=pd.DataFrame(Train.T)\n",
    "last_column = df.columns[-1]\n",
    "df.rename(columns={last_column:'label'}, inplace=True)\n",
    "index_2s = df['label'] == 2\n",
    "index_8s = df['label'] == 8\n",
    "Train_2_8 = df.loc[index_2s | index_8s]\n",
    "Train_2_8_X=Train_2_8.drop(['label'],axis=1).as_matrix()\n",
    "Train_2_8_Y=Train_2_8['label'].as_matrix()\n",
    "Train_2_8_X=Train_2_8_X.T"
   ]
  },
  {
   "cell_type": "code",
   "execution_count": 24,
   "metadata": {
    "collapsed": true
   },
   "outputs": [],
   "source": [
    "#extract 2 and 8 from test data\n",
    "Test=np.concatenate((Test_X,Test_Y),axis=0)\n",
    "df_test=pd.DataFrame(Test.T)\n",
    "last_column = df_test.columns[-1]\n",
    "df_test.rename(columns={last_column:'label'}, inplace=True)\n",
    "index_2s = df_test['label'] == 2\n",
    "index_8s = df_test['label'] == 8\n",
    "Test_2_8 = df_test.loc[index_2s | index_8s]\n",
    "Test_2_8_X=Test_2_8.drop(['label'],axis=1).as_matrix()\n",
    "Test_2_8_Y=Test_2_8['label'].as_matrix()\n",
    "Test_2_8_X=Test_2_8_X.T"
   ]
  },
  {
   "cell_type": "code",
   "execution_count": 25,
   "metadata": {
    "collapsed": true
   },
   "outputs": [],
   "source": [
    "Train_2_8_Y=abs(Train_2_8_Y-8)/6 ##change 2 to label 1, change 3 to label 0\n",
    "Test_2_8_Y=abs(Test_2_8_Y-8)/6"
   ]
  },
  {
   "cell_type": "code",
   "execution_count": 26,
   "metadata": {
    "collapsed": true
   },
   "outputs": [],
   "source": [
    "# add bias to train and divide 255\n",
    "Train_2_8_X=Train_2_8_X/255.0\n",
    "Test_2_8_X=Test_2_8_X/255.0\n",
    "one=np.ones((1,Train_2_8_X.shape[1]))\n",
    "Train_2_8_X=np.concatenate((one,Train_2_8_X),axis=0)\n",
    "one=np.ones((1,Test_2_8_X.shape[1]))\n",
    "Test_2_8_X=np.concatenate((one,Test_2_8_X),axis=0)"
   ]
  },
  {
   "cell_type": "code",
   "execution_count": 27,
   "metadata": {
    "collapsed": true
   },
   "outputs": [],
   "source": [
    "#shuffle data\n",
    "shuffle_index = list(np.random.permutation(Train_2_8_X.shape[1]))\n",
    "Train_2_8_X = Train_2_8_X[:, shuffle_index]\n",
    "Train_2_8_Y = Train_2_8_Y[shuffle_index]"
   ]
  },
  {
   "cell_type": "code",
   "execution_count": 28,
   "metadata": {},
   "outputs": [
    {
     "name": "stdout",
     "output_type": "stream",
     "text": [
      "(785, 3465) (785, 386) (3465,) (386,)\n"
     ]
    }
   ],
   "source": [
    "##add hold out set\n",
    "Train_2_8_X_hold = Train_2_8_X[:,Train_2_8_X.shape[1]/10*9:]\n",
    "Train_2_8_X = Train_2_8_X[:,:Train_2_8_X.shape[1]/10*9]\n",
    "Train_2_8_Y_hold = Train_2_8_Y[len(Train_2_8_Y)/10*9:]\n",
    "Train_2_8_Y = Train_2_8_Y[:len(Train_2_8)/10*9]\n",
    "Train_2_8_Y.reshape((1,len(Train_2_8_Y)))\n",
    "Test_2_8_Y.reshape((1,len(Test_2_8_Y)))\n",
    "#w=np.random.randn(Train_2_8_X.shape[0],1)*0.0001 # initialize weights\n",
    "w=np.zeros((Train_2_8_X.shape[0],1))\n",
    "print Train_2_8_X.shape , Train_2_8_X_hold.shape,Train_2_8_Y.shape,Train_2_8_Y_hold.shape"
   ]
  },
  {
   "cell_type": "code",
   "execution_count": 29,
   "metadata": {},
   "outputs": [
    {
     "name": "stdout",
     "output_type": "stream",
     "text": [
      "Train Cost after iteration 0: 0.635672\n",
      "Accuracy for train is  0.912842712843\n",
      "Train Cost after iteration 20: 0.284967\n",
      "Accuracy for train is  0.944877344877\n",
      "Train Cost after iteration 40: 0.218268\n",
      "Accuracy for train is  0.950649350649\n",
      "Train Cost after iteration 60: 0.188612\n",
      "Accuracy for train is  0.952092352092\n",
      "Train Cost after iteration 80: 0.171223\n",
      "Accuracy for train is  0.954978354978\n",
      "Train Cost after iteration 100: 0.159533\n",
      "Accuracy for train is  0.95670995671\n",
      "Train Cost after iteration 120: 0.151006\n",
      "Accuracy for train is  0.95873015873\n",
      "Train Cost after iteration 140: 0.144437\n",
      "Accuracy for train is  0.959018759019\n",
      "Train Cost after iteration 160: 0.139178\n",
      "Accuracy for train is  0.959884559885\n",
      "Train Cost after iteration 180: 0.134842\n",
      "Accuracy for train is  0.959595959596\n",
      "Train Cost after iteration 200: 0.131186\n",
      "Accuracy for train is  0.959884559885\n",
      "Train Cost after iteration 220: 0.128048\n",
      "Accuracy for train is  0.959595959596\n",
      "Train Cost after iteration 240: 0.125314\n",
      "Accuracy for train is  0.960173160173\n",
      "Train Cost after iteration 260: 0.122902\n",
      "Accuracy for train is  0.960173160173\n",
      "Train Cost after iteration 280: 0.120753\n",
      "Accuracy for train is  0.960461760462\n",
      "Train Cost after iteration 300: 0.118821\n",
      "Accuracy for train is  0.960461760462\n",
      "Train Cost after iteration 320: 0.117071\n",
      "Accuracy for train is  0.961327561328\n",
      "Train Cost after iteration 340: 0.115475\n",
      "Accuracy for train is  0.961616161616\n",
      "Train Cost after iteration 360: 0.114010\n",
      "Accuracy for train is  0.962481962482\n",
      "Train Cost after iteration 380: 0.112660\n",
      "Accuracy for train is  0.962770562771\n",
      "Train Cost after iteration 400: 0.111409\n",
      "Accuracy for train is  0.962770562771\n",
      "Train Cost after iteration 420: 0.110245\n",
      "Accuracy for train is  0.962770562771\n",
      "Train Cost after iteration 440: 0.109158\n",
      "Accuracy for train is  0.962770562771\n",
      "Train Cost after iteration 460: 0.108140\n",
      "Accuracy for train is  0.963059163059\n",
      "Train Cost after iteration 480: 0.107183\n",
      "Accuracy for train is  0.963636363636\n"
     ]
    }
   ],
   "source": [
    "w,costs,costs_hold,costs_test,accuracy_train,accuracy_hold,accuracy_test = mini_optimize_reg(w, Train_2_8_X, Train_2_8_Y, Train_2_8_X_hold,Train_2_8_Y_hold,Test_2_8_X,Test_2_8_Y, num_epochs= 500, learning_rate = 0.005,reg=0.00,mini_batch_size=256)"
   ]
  },
  {
   "cell_type": "code",
   "execution_count": 35,
   "metadata": {},
   "outputs": [
    {
     "name": "stdout",
     "output_type": "stream",
     "text": [
      "Train Cost after iteration 0: 0.693147\n",
      "Accuracy for train is  0.92582972583\n",
      "Train Cost after iteration 20: 0.612820\n",
      "Accuracy for train is  0.934199134199\n",
      "Train Cost after iteration 40: 0.550283\n",
      "Accuracy for train is  0.937950937951\n",
      "Train Cost after iteration 60: 0.500918\n",
      "Accuracy for train is  0.938816738817\n",
      "Train Cost after iteration 80: 0.461335\n",
      "Accuracy for train is  0.940548340548\n",
      "Train Cost after iteration 100: 0.429073\n",
      "Accuracy for train is  0.94227994228\n",
      "Train Cost after iteration 120: 0.402362\n",
      "Accuracy for train is  0.943722943723\n",
      "Train Cost after iteration 140: 0.379925\n",
      "Accuracy for train is  0.943434343434\n",
      "Train Cost after iteration 160: 0.360830\n",
      "Accuracy for train is  0.9443001443\n",
      "Train Cost after iteration 180: 0.344388\n",
      "Accuracy for train is  0.9443001443\n",
      "Train Cost after iteration 200: 0.330083\n",
      "Accuracy for train is  0.944588744589\n",
      "Train Cost after iteration 220: 0.317521\n",
      "Accuracy for train is  0.945454545455\n",
      "Train Cost after iteration 240: 0.306397\n",
      "Accuracy for train is  0.94632034632\n",
      "Train Cost after iteration 260: 0.296474\n",
      "Accuracy for train is  0.94632034632\n",
      "Train Cost after iteration 280: 0.287564\n",
      "Accuracy for train is  0.946608946609\n",
      "Train Cost after iteration 300: 0.279514\n",
      "Accuracy for train is  0.946897546898\n",
      "Train Cost after iteration 320: 0.272202\n",
      "Accuracy for train is  0.946897546898\n",
      "Train Cost after iteration 340: 0.265529\n",
      "Accuracy for train is  0.947186147186\n",
      "Train Cost after iteration 360: 0.259410\n",
      "Accuracy for train is  0.947186147186\n",
      "Train Cost after iteration 380: 0.253777\n",
      "Accuracy for train is  0.947186147186\n",
      "Train Cost after iteration 400: 0.248572\n",
      "Accuracy for train is  0.948051948052\n",
      "Train Cost after iteration 420: 0.243746\n",
      "Accuracy for train is  0.948051948052\n",
      "Train Cost after iteration 440: 0.239258\n",
      "Accuracy for train is  0.948917748918\n",
      "Train Cost after iteration 460: 0.235070\n",
      "Accuracy for train is  0.949206349206\n",
      "Train Cost after iteration 480: 0.231153\n",
      "Accuracy for train is  0.949494949495\n"
     ]
    }
   ],
   "source": [
    "w,costs,costs_hold,costs_test,accuracy_train,accuracy_hold,accuracy_test = optimize_reg(w, Train_2_8_X, Train_2_8_Y, Train_2_8_X_hold,Train_2_8_Y_hold,Test_2_8_X,Test_2_8_Y, num_iterations= 800, learning_rate = 0.005,reg=0.0)"
   ]
  },
  {
   "cell_type": "code",
   "execution_count": 30,
   "metadata": {},
   "outputs": [
    {
     "name": "stdout",
     "output_type": "stream",
     "text": [
      "acc_train 0.963636363636\n",
      "acc_hold 0.966321243523\n",
      "acc_test 0.961038961039\n"
     ]
    }
   ],
   "source": [
    "predict_train, acc_train=prediction(w,Train_2_8_X,Train_2_8_Y)\n",
    "#print \"predict_train\",  predict_train\n",
    "print \"acc_train\", acc_train\n",
    "\n",
    "predict_hold, acc_hold=prediction(w,Train_2_8_X_hold,Train_2_8_Y_hold)\n",
    "print \"acc_hold\", acc_hold\n",
    "\n",
    "predict_test, acc_test=prediction(w,Test_2_8_X,Test_2_8_Y)\n",
    "#print \"predict_test\",  predict_test\n",
    "print \"acc_test\", acc_test"
   ]
  },
  {
   "cell_type": "code",
   "execution_count": 31,
   "metadata": {},
   "outputs": [
    {
     "data": {
      "image/png": "[encoded data removed]",
      "text/plain": [
       "<matplotlib.figure.Figure at 0x107be6490>"
      ]
     },
     "metadata": {},
     "output_type": "display_data"
    }
   ],
   "source": [
    "costs = np.squeeze(costs)\n",
    "costs_hold = np.squeeze(costs_hold)\n",
    "costs_test = np.squeeze(costs_test)\n",
    "costs_test = np.squeeze(costs_test)\n",
    "plt.plot(costs,color = 'blue',label='Training Cost')\n",
    "plt.plot(costs_hold,color = 'red',label='Holdout Cost')\n",
    "plt.plot(costs_test,color = 'green',label='Test Cost')\n",
    "plt.ylabel('cost')\n",
    "plt.xlabel('iterations (per twenty)')\n",
    "plt.title(\"Learning rate =\" + str(0.005))\n",
    "plt.legend()\n",
    "\n",
    "plt.show()"
   ]
  },
  {
   "cell_type": "code",
   "execution_count": 32,
   "metadata": {},
   "outputs": [
    {
     "data": {
      "image/png": "[encoded data removed]",
      "text/plain": [
       "<matplotlib.figure.Figure at 0x1300e3510>"
      ]
     },
     "metadata": {},
     "output_type": "display_data"
    }
   ],
   "source": [
    "plt.plot(accuracy_train, label='Train Accuracy')\n",
    "plt.plot(accuracy_hold, label='Holdout Accuracy')\n",
    "plt.plot(accuracy_test,label='Test Accuracy')\n",
    "plt.xlabel('iterations (per twenty)')\n",
    "plt.title(\"accuracy\")\n",
    "plt.legend()\n",
    "plt.show()"
   ]
  },
  {
   "cell_type": "code",
   "execution_count": 33,
   "metadata": {},
   "outputs": [
    {
     "data": {
      "image/png": "[encoded data removed]",
      "text/plain": [
       "<matplotlib.figure.Figure at 0x1300e3750>"
      ]
     },
     "metadata": {},
     "output_type": "display_data"
    }
   ],
   "source": [
    "wp8=w[1:].reshape((28,28))\n",
    "plt.imshow(wp8)\n",
    "plt.title(\"weights of 2 vs 8\")\n",
    "plt.show()"
   ]
  },
  {
   "cell_type": "code",
   "execution_count": 34,
   "metadata": {},
   "outputs": [
    {
     "data": {
      "image/png": "[encoded data removed]",
      "text/plain": [
       "<matplotlib.figure.Figure at 0x147bfb3d0>"
      ]
     },
     "metadata": {},
     "output_type": "display_data"
    }
   ],
   "source": [
    "wp28=wp-wp8\n",
    "plt.imshow(wp28)\n",
    "plt.title(\"difference of two weights\")\n",
    "plt.show()"
   ]
  },
  {
   "cell_type": "code",
   "execution_count": 15,
   "metadata": {
    "collapsed": true
   },
   "outputs": [],
   "source": [
    "#softmax\n",
    "Train_X = np.array(Train_images[0:20000]).T\n",
    "Train_Y = np.array(Train_labels[0:20000])\n",
    "Test_X = np.array(Test_images[-2000:]).T\n",
    "Test_Y = np.array(Test_labels[-2000:])\n"
   ]
  },
  {
   "cell_type": "code",
   "execution_count": 16,
   "metadata": {
    "collapsed": true
   },
   "outputs": [],
   "source": [
    "# add bias to train and divide 255\n",
    "Train_X=Train_X/255.0\n",
    "Test_X=Test_X/255.0\n",
    "one=np.ones((1,Train_X.shape[1]))\n",
    "Train_X=np.concatenate((one,Train_X),axis=0)\n",
    "one=np.ones((1,Test_X.shape[1]))\n",
    "Test_X=np.concatenate((one,Test_X),axis=0)"
   ]
  },
  {
   "cell_type": "code",
   "execution_count": 17,
   "metadata": {
    "collapsed": true
   },
   "outputs": [],
   "source": [
    "#shuffle data\n",
    "shuffle_index = list(np.random.permutation(Train_X.shape[1]))\n",
    "Train_X = Train_X[:, shuffle_index]\n",
    "Train_Y = Train_Y[shuffle_index]"
   ]
  },
  {
   "cell_type": "code",
   "execution_count": 18,
   "metadata": {},
   "outputs": [
    {
     "name": "stdout",
     "output_type": "stream",
     "text": [
      "(785, 18000) (785, 2000) (18000,) (2000,)\n"
     ]
    }
   ],
   "source": [
    "##add hold out set\n",
    "Train_X_hold = Train_X[:,Train_X.shape[1]/10*9:]\n",
    "Train_X = Train_X[:,:Train_X.shape[1]/10*9]\n",
    "Train_Y_hold = Train_Y[len(Train_Y)/10*9:]\n",
    "Train_Y = Train_Y[:len(Train_Y)/10*9]\n",
    "w=np.random.randn(Train_X.shape[0],10)*0.001 # initialize weights\n",
    "Train_Y.reshape((1,len(Train_Y)))\n",
    "Test_Y.reshape((1,len(Test_Y)))\n",
    "print Train_X.shape , Train_X_hold.shape,Train_Y.shape,Train_Y_hold.shape"
   ]
  },
  {
   "cell_type": "code",
   "execution_count": 19,
   "metadata": {
    "collapsed": true
   },
   "outputs": [],
   "source": [
    "def softmax(a):\n",
    "    a-=np.max(a,axis=0,keepdims=True) #stabilize\n",
    "    sum_a=np.sum(np.exp(a),axis=0,keepdims=True)\n",
    "    y_k= np.exp(a)/sum_a\n",
    "    return y_k\n",
    "\n",
    "def build_mask(y):\n",
    "    \n",
    "    mask=np.zeros((10,len(y)))\n",
    "    mask[y,np.arange(len(y))] = 1\n",
    "    \n",
    "    return mask\n",
    "\n",
    "def cross_entro_soft(x,y,w):\n",
    "    \n",
    "    a= np.dot(w.T,x)\n",
    "    mask = build_mask(y)\n",
    "    y_k = softmax(a)\n",
    "    E = -np.sum(np.log(y_k[y,np.arange(x.shape[1])]))/x.shape[1]/10\n",
    "    \n",
    "    \n",
    "    dw= 1.0*np.dot((mask-y_k),x.T)/x.shape[1]\n",
    "    \n",
    "    return E,dw\n",
    "\n",
    "def predict_softmax(w,x,y):\n",
    "    a= np.dot(w.T,x)\n",
    "    y_k = softmax(a)\n",
    "    y_pred = y_k.argmax(axis=0)\n",
    "    correct = [(a==b) for (a,b) in zip(y_pred,y)]\n",
    "    acc = sum(correct) * 1.0 / len(correct)\n",
    "    return acc\n",
    "    "
   ]
  },
  {
   "cell_type": "code",
   "execution_count": 20,
   "metadata": {
    "collapsed": true
   },
   "outputs": [],
   "source": [
    "def optimize_reg_softmax(w, x, y,x_hold,y_hold,x_test,y_test, num_iterations, learning_rate ,reg):\n",
    "    costs = []\n",
    "    costs_hold = []\n",
    "    costs_test = []\n",
    "    accuracy_train = []\n",
    "    accuracy_hold = []\n",
    "    accuracy_test = []\n",
    "    \n",
    "    for i in range(num_iterations):\n",
    "    \n",
    "        # Cost and gradient calculation (add regualarization)\n",
    "        cost_E,dw=cross_entro_soft(x,y,w)\n",
    "        cost_E+=0.5*reg*np.sum(w**2)\n",
    "        dw+=reg*w.T\n",
    "        \n",
    "        #cost for hold out\n",
    "        cost_E_hold,_=cross_entro_soft(x_hold,y_hold,w) \n",
    "        cost_E_hold += 0.5*reg*np.sum(w**2)\n",
    "        \n",
    "        #cost for test\n",
    "        cost_E_test,_=cross_entro_soft(x_test,y_test,w)\n",
    "        cost_E_test += 0.5*reg*np.sum(w**2)\n",
    "        \n",
    "        #calculate accuracy \n",
    "        acc_train = predict_softmax(w,x,y)\n",
    "        acc_hold = predict_softmax(w,x_hold,y_hold)\n",
    "        acc_test = predict_softmax(w,x_test,y_test)\n",
    "\n",
    "        #update weights\n",
    "        w = w+learning_rate*dw.T\n",
    "        \n",
    "        #learning rate decay\n",
    "        learning_rate/=(1+i/1000) \n",
    "\n",
    "        # Record the costs\n",
    "        if i % 100 == 0:\n",
    "            costs.append(cost_E)\n",
    "            costs_hold.append(cost_E_hold)\n",
    "            costs_test.append(cost_E_test)\n",
    "            accuracy_train.append(acc_train)\n",
    "            accuracy_hold.append(acc_hold)\n",
    "            accuracy_test.append(acc_test)\n",
    "            \n",
    "            print (\"Cost after iteration %i: %f\" %(i, cost_E))\n",
    "        \n",
    "    return  w,costs,costs_hold,costs_test,accuracy_train,accuracy_hold,accuracy_test"
   ]
  },
  {
   "cell_type": "code",
   "execution_count": 90,
   "metadata": {},
   "outputs": [
    {
     "name": "stdout",
     "output_type": "stream",
     "text": [
      "Cost after iteration 0: 0.230316\n",
      "Cost after iteration 100: 0.219897\n",
      "Cost after iteration 200: 0.210425\n",
      "Cost after iteration 300: 0.201763\n",
      "Cost after iteration 400: 0.193830\n"
     ]
    }
   ],
   "source": [
    "w,costs,costs_hold,costs_test,accuracy_train,accuracy_hold,accuracy_test=optimize_reg_softmax(w, Train_X, Train_Y,Train_X_hold,Train_Y_hold,Test_X,Test_Y, num_iterations=500, learning_rate=0.001 ,reg=0.01)"
   ]
  },
  {
   "cell_type": "code",
   "execution_count": 91,
   "metadata": {},
   "outputs": [
    {
     "data": {
      "image/png": "[encoded data removed]",
      "text/plain": [
       "<matplotlib.figure.Figure at 0x1308e7250>"
      ]
     },
     "metadata": {},
     "output_type": "display_data"
    }
   ],
   "source": [
    "costs = np.squeeze(costs)\n",
    "costs_hold = np.squeeze(costs_hold)\n",
    "costs_test = np.squeeze(costs_test)\n",
    "costs_test = np.squeeze(costs_test)\n",
    "plt.plot(costs,color = 'blue',label='Training Cost')\n",
    "plt.plot(costs_hold,color = 'red',label='Holdout Cost')\n",
    "plt.plot(costs_test,color = 'green',label='Test Cost')\n",
    "plt.ylabel('cost')\n",
    "plt.xlabel('iterations (per hundreds)')\n",
    "plt.title(\"Learning rate =\" + str(0.005))\n",
    "plt.legend()\n",
    "\n",
    "plt.show()"
   ]
  },
  {
   "cell_type": "code",
   "execution_count": 92,
   "metadata": {},
   "outputs": [
    {
     "data": {
      "image/png": "[encoded data removed]",
      "text/plain": [
       "<matplotlib.figure.Figure at 0x1308e76d0>"
      ]
     },
     "metadata": {},
     "output_type": "display_data"
    }
   ],
   "source": [
    "plt.plot(accuracy_train, label='Train Accuracy')\n",
    "plt.plot(accuracy_hold, label='Holdout Accuracy')\n",
    "plt.plot(accuracy_test,label='Test Accuracy')\n",
    "plt.xlabel('iterations (per hundreds)')\n",
    "plt.title(\"accuracy\")\n",
    "plt.legend()\n",
    "plt.show()"
   ]
  },
  {
   "cell_type": "code",
   "execution_count": 21,
   "metadata": {
    "collapsed": true
   },
   "outputs": [],
   "source": [
    "w=np.random.randn(Train_X.shape[0],10)*0.001 # initialize weights\n",
    "\n",
    "def mini_optimize_reg_softmax(w, x, y, x_hold,y_hold, x_test,y_test,num_epochs, learning_rate ,reg,mini_batch_size=1024):\n",
    "    costs = []\n",
    "    costs_hold = []\n",
    "    costs_test = []\n",
    "    accuracy_train = []\n",
    "    accuracy_hold = []\n",
    "    accuracy_test = []\n",
    "    cost_epoch = []\n",
    "    for i in range(num_epochs):\n",
    "        \n",
    "        minibatches = mini_batches(x, y, mini_batch_size )\n",
    "        \n",
    "        for minibatch in minibatches:\n",
    "            (minibatch_x, minibatch_y) = minibatch\n",
    "            _,dw=cross_entro_soft(minibatch_x,minibatch_y,w)   \n",
    "            #cost_E+=0.5*reg*np.sum(w**2)  # add regularization  \n",
    "            dw += reg*w.T\n",
    "            \n",
    "            #updata gradients and learning rate decay\n",
    "            w = w+learning_rate*dw.T\n",
    "            learning_rate/=(1+i/1000) #learning rate decay\n",
    "        \n",
    "\n",
    "        # Cost for train\n",
    "        cost_E,_ = cross_entro_soft(x,y,w)   \n",
    "        cost_E += 0.5*reg*np.sum(w**2) #L2\n",
    "        #cost_E += 0.5*reg*np.sum(abs(w)) #L1\n",
    " \n",
    "        \n",
    "        #cost for hold out\n",
    "        cost_E_hold,_=cross_entro_soft(x_hold,y_hold,w) \n",
    "        cost_E_hold += 0.5*reg*np.sum(w**2) #L2\n",
    "        #cost_E_hold += 0.5*reg*np.sum(abs(w)) #L1\n",
    "        \n",
    "        #cost for test\n",
    "        cost_E_test,_=cross_entro_soft(x_test,y_test,w)\n",
    "        cost_E_test += 0.5*reg*np.sum(w**2) #L2\n",
    "        #cost_E_test += 0.5*reg*np.sum(abs(w)) #L1\n",
    "        \n",
    "        #calculate accuracy \n",
    "        acc_train = predict_softmax(w,x,y)\n",
    "        acc_hold = predict_softmax(w,x_hold,y_hold)\n",
    "        acc_test = predict_softmax(w,x_test,y_test)\n",
    "\n",
    "        cost_epoch.append(cost_E_hold)\n",
    "        \n",
    "        #early stop\n",
    "        if i > 5:\n",
    "            if cost_epoch[-5:] == sorted(cost_epoch[-5:]):\n",
    "                break\n",
    "        \n",
    "\n",
    "        # Record the costs and acc\n",
    "        if i % 20 == 0:\n",
    "            costs.append(cost_E)\n",
    "            costs_hold.append(cost_E_hold)\n",
    "            costs_test.append(cost_E_test)\n",
    "            accuracy_train.append(acc_train)\n",
    "            accuracy_hold.append(acc_hold)\n",
    "            accuracy_test.append(acc_test)\n",
    "            print \"Train Cost after iteration %i: %f\" %(i, cost_E)\n",
    "            print \"Accuracy for train is \", acc_train\n",
    "           # print \"Accuracy for hold is \", acc_hold\n",
    "            #print \"Accuracy for test is \", acc_test\n",
    "            \n",
    "        \n",
    "    return  w,costs,costs_hold,costs_test,accuracy_train,accuracy_hold,accuracy_test"
   ]
  },
  {
   "cell_type": "code",
   "execution_count": 22,
   "metadata": {},
   "outputs": [
    {
     "name": "stdout",
     "output_type": "stream",
     "text": [
      "Train Cost after iteration 0: 0.220642\n",
      "Accuracy for train is  0.688944444444\n",
      "Train Cost after iteration 20: 0.121872\n",
      "Accuracy for train is  0.799\n",
      "Train Cost after iteration 40: 0.091038\n",
      "Accuracy for train is  0.828666666667\n",
      "Train Cost after iteration 60: 0.076860\n",
      "Accuracy for train is  0.843833333333\n",
      "Train Cost after iteration 80: 0.068643\n",
      "Accuracy for train is  0.853944444444\n",
      "Train Cost after iteration 100: 0.063219\n",
      "Accuracy for train is  0.859888888889\n",
      "Train Cost after iteration 120: 0.059335\n",
      "Accuracy for train is  0.865222222222\n",
      "Train Cost after iteration 140: 0.056397\n",
      "Accuracy for train is  0.868055555556\n",
      "Train Cost after iteration 160: 0.054083\n",
      "Accuracy for train is  0.872222222222\n",
      "Train Cost after iteration 180: 0.052206\n",
      "Accuracy for train is  0.874944444444\n",
      "Train Cost after iteration 200: 0.050647\n",
      "Accuracy for train is  0.877777777778\n",
      "Train Cost after iteration 220: 0.049328\n",
      "Accuracy for train is  0.8805\n",
      "Train Cost after iteration 240: 0.048193\n",
      "Accuracy for train is  0.882166666667\n",
      "Train Cost after iteration 260: 0.047206\n",
      "Accuracy for train is  0.884166666667\n",
      "Train Cost after iteration 280: 0.046337\n",
      "Accuracy for train is  0.886555555556\n",
      "Train Cost after iteration 300: 0.045565\n",
      "Accuracy for train is  0.888055555556\n",
      "Train Cost after iteration 320: 0.044874\n",
      "Accuracy for train is  0.889555555556\n",
      "Train Cost after iteration 340: 0.044251\n",
      "Accuracy for train is  0.890722222222\n",
      "Train Cost after iteration 360: 0.043685\n",
      "Accuracy for train is  0.892222222222\n",
      "Train Cost after iteration 380: 0.043170\n",
      "Accuracy for train is  0.893055555556\n",
      "Train Cost after iteration 400: 0.042697\n",
      "Accuracy for train is  0.893722222222\n",
      "Train Cost after iteration 420: 0.042262\n",
      "Accuracy for train is  0.894611111111\n",
      "Train Cost after iteration 440: 0.041859\n",
      "Accuracy for train is  0.895777777778\n",
      "Train Cost after iteration 460: 0.041486\n",
      "Accuracy for train is  0.896555555556\n",
      "Train Cost after iteration 480: 0.041138\n",
      "Accuracy for train is  0.897055555556\n",
      "Train Cost after iteration 500: 0.040814\n",
      "Accuracy for train is  0.897833333333\n",
      "Train Cost after iteration 520: 0.040510\n",
      "Accuracy for train is  0.898666666667\n",
      "Train Cost after iteration 540: 0.040225\n",
      "Accuracy for train is  0.899555555556\n",
      "Train Cost after iteration 560: 0.039957\n",
      "Accuracy for train is  0.900277777778\n",
      "Train Cost after iteration 580: 0.039705\n",
      "Accuracy for train is  0.900833333333\n",
      "Train Cost after iteration 600: 0.039466\n",
      "Accuracy for train is  0.901222222222\n",
      "Train Cost after iteration 620: 0.039240\n",
      "Accuracy for train is  0.902111111111\n",
      "Train Cost after iteration 640: 0.039026\n",
      "Accuracy for train is  0.902611111111\n",
      "Train Cost after iteration 660: 0.038822\n",
      "Accuracy for train is  0.903166666667\n",
      "Train Cost after iteration 680: 0.038629\n",
      "Accuracy for train is  0.904\n",
      "Train Cost after iteration 700: 0.038445\n",
      "Accuracy for train is  0.904222222222\n",
      "Train Cost after iteration 720: 0.038269\n",
      "Accuracy for train is  0.904722222222\n",
      "Train Cost after iteration 740: 0.038101\n",
      "Accuracy for train is  0.905611111111\n",
      "Train Cost after iteration 760: 0.037941\n",
      "Accuracy for train is  0.905944444444\n",
      "Train Cost after iteration 780: 0.037787\n",
      "Accuracy for train is  0.906166666667\n",
      "Train Cost after iteration 800: 0.037640\n",
      "Accuracy for train is  0.9065\n",
      "Train Cost after iteration 820: 0.037499\n",
      "Accuracy for train is  0.906888888889\n",
      "Train Cost after iteration 840: 0.037363\n",
      "Accuracy for train is  0.906944444444\n",
      "Train Cost after iteration 860: 0.037233\n",
      "Accuracy for train is  0.907111111111\n",
      "Train Cost after iteration 880: 0.037108\n",
      "Accuracy for train is  0.907666666667\n",
      "Train Cost after iteration 900: 0.036987\n",
      "Accuracy for train is  0.908277777778\n",
      "Train Cost after iteration 920: 0.036871\n",
      "Accuracy for train is  0.9085\n",
      "Train Cost after iteration 940: 0.036759\n",
      "Accuracy for train is  0.9085\n",
      "Train Cost after iteration 960: 0.036651\n",
      "Accuracy for train is  0.908666666667\n",
      "Train Cost after iteration 980: 0.036546\n",
      "Accuracy for train is  0.908944444444\n"
     ]
    }
   ],
   "source": [
    "w,costs,costs_hold,costs_test,accuracy_train,accuracy_hold,accuracy_test=mini_optimize_reg_softmax(w, Train_X, Train_Y,Train_X_hold,Train_Y_hold,Test_X,Test_Y, num_epochs=1000, learning_rate=0.005 ,reg=0.0001,mini_batch_size=1024)"
   ]
  },
  {
   "cell_type": "code",
   "execution_count": 163,
   "metadata": {},
   "outputs": [
    {
     "data": {
      "text/plain": [
       "0.90927777777777774"
      ]
     },
     "execution_count": 163,
     "metadata": {},
     "output_type": "execute_result"
    }
   ],
   "source": [
    "predict_softmax(w,Train_X,Train_Y)"
   ]
  },
  {
   "cell_type": "code",
   "execution_count": 164,
   "metadata": {},
   "outputs": [
    {
     "data": {
      "image/png": "[encoded data removed]",
      "text/plain": [
       "<matplotlib.figure.Figure at 0x104c7fc50>"
      ]
     },
     "metadata": {},
     "output_type": "display_data"
    }
   ],
   "source": [
    "costs = np.squeeze(costs)\n",
    "costs_hold = np.squeeze(costs_hold)\n",
    "costs_test = np.squeeze(costs_test)\n",
    "plt.plot(costs,color = 'blue',label='Training Cost')\n",
    "plt.plot(costs_hold,color = 'red',label='Holdout Cost')\n",
    "plt.plot(costs_test,color = 'green',label='Test Cost')\n",
    "plt.ylabel('cost')\n",
    "plt.xlabel('iterations (per twenty)')\n",
    "plt.title(\"Learning rate =\" + str(0.005))\n",
    "plt.legend()\n",
    "\n",
    "plt.show()"
   ]
  },
  {
   "cell_type": "code",
   "execution_count": 165,
   "metadata": {},
   "outputs": [
    {
     "data": {
      "image/png": "[encoded data removed]",
      "text/plain": [
       "<matplotlib.figure.Figure at 0x10898d910>"
      ]
     },
     "metadata": {},
     "output_type": "display_data"
    }
   ],
   "source": [
    "plt.plot(accuracy_train, label='Train Accuracy')\n",
    "plt.plot(accuracy_hold, label='Holdout Accuracy')\n",
    "plt.plot(accuracy_test,label='Test Accuracy')\n",
    "plt.xlabel('iterations (per twenty)')\n",
    "plt.title(\"accuracy\")\n",
    "plt.legend()\n",
    "plt.show()"
   ]
  },
  {
   "cell_type": "code",
   "execution_count": 167,
   "metadata": {},
   "outputs": [
    {
     "name": "stdout",
     "output_type": "stream",
     "text": [
      "0.908944444444\n",
      "0.9\n",
      "0.935\n"
     ]
    }
   ],
   "source": [
    "print accuracy_train[-1]\n",
    "print accuracy_hold[-1]\n",
    "print accuracy_test[-1]"
   ]
  },
  {
   "cell_type": "code",
   "execution_count": 111,
   "metadata": {
    "collapsed": true
   },
   "outputs": [],
   "source": [
    "a=w[:,0][1:].reshape((28,28))"
   ]
  },
  {
   "cell_type": "code",
   "execution_count": 123,
   "metadata": {},
   "outputs": [
    {
     "data": {
      "image/png": "[encoded data removed]",
      "text/plain": [
       "<matplotlib.figure.Figure at 0x108ac5e90>"
      ]
     },
     "metadata": {},
     "output_type": "display_data"
    }
   ],
   "source": [
    "fig = plt.figure(figsize=(9, 9))\n",
    "plt.subplot(2, 5, 1)\n",
    "plt.imshow(w[:,0][1:].reshape((28,28)))\n",
    "plt.title(\"weights 0 \")\n",
    "plt.subplot(2, 5, 2)\n",
    "plt.imshow(w[:,1][1:].reshape((28,28)))\n",
    "plt.title(\"weights 1 \")\n",
    "plt.subplot(2, 5, 3)\n",
    "plt.imshow(w[:,2][1:].reshape((28,28)))\n",
    "plt.title(\"weights 2 \")\n",
    "plt.subplot(2, 5, 4)\n",
    "plt.imshow(w[:,3][1:].reshape((28,28)))\n",
    "plt.title(\"weights 3 \")\n",
    "plt.subplot(2, 5, 5)\n",
    "plt.imshow(w[:,4][1:].reshape((28,28)))\n",
    "plt.title(\"weights 4 \")\n",
    "plt.subplot(2, 5, 6)\n",
    "plt.imshow(w[:,5][1:].reshape((28,28)))\n",
    "plt.title(\"weights 5 \")\n",
    "plt.subplot(2, 5, 7)\n",
    "plt.imshow(w[:,6][1:].reshape((28,28)))\n",
    "plt.title(\"weights 6 \")\n",
    "plt.subplot(2, 5, 8)\n",
    "plt.imshow(w[:,7][1:].reshape((28,28)))\n",
    "plt.title(\"weights 7 \")\n",
    "plt.subplot(2, 5, 9)\n",
    "plt.imshow(w[:,8][1:].reshape((28,28)))\n",
    "plt.title(\"weights 8 \")\n",
    "plt.subplot(2, 5, 10)\n",
    "plt.imshow(w[:,9][1:].reshape((28,28)))\n",
    "plt.title(\"weights 9 \")\n",
    "plt.show()"
   ]
  },
  {
   "cell_type": "code",
   "execution_count": 149,
   "metadata": {
    "collapsed": true
   },
   "outputs": [],
   "source": [
    "Train_X = np.array(Train_images[0:20000]).T\n",
    "Train_Y = np.array(Train_labels[0:20000],ndmin=2)\n",
    "Train=np.concatenate((Train_X,Train_Y),axis=0)\n",
    "df=pd.DataFrame(Train.T)\n",
    "last_column = df.columns[-1]\n",
    "df.rename(columns={last_column:'label'}, inplace=True)\n",
    "index_0s = df['label'] == 0\n",
    "Train_0 = df.loc[index_0s]\n",
    "Train_0_X=Train_0.drop(['label'],axis=1).as_matrix()\n",
    "Train_0_X=Train_0_X.T\n",
    "index_1s = df['label'] == 1\n",
    "Train_1 = df.loc[index_1s]\n",
    "Train_1_X=Train_1.drop(['label'],axis=1).as_matrix()\n",
    "Train_1_X=Train_1_X.T\n",
    "index_2s = df['label'] == 2\n",
    "Train_2 = df.loc[index_2s]\n",
    "Train_2_X=Train_2.drop(['label'],axis=1).as_matrix()\n",
    "Train_2_X=Train_2_X.T\n",
    "index_3s = df['label'] == 3\n",
    "Train_3 = df.loc[index_3s]\n",
    "Train_3_X=Train_3.drop(['label'],axis=1).as_matrix()\n",
    "Train_3_X=Train_3_X.T\n",
    "index_4s = df['label'] == 4\n",
    "Train_4 = df.loc[index_4s]\n",
    "Train_4_X=Train_4.drop(['label'],axis=1).as_matrix()\n",
    "Train_4_X=Train_4_X.T\n",
    "index_5s = df['label'] == 5\n",
    "Train_5 = df.loc[index_5s]\n",
    "Train_5_X=Train_5.drop(['label'],axis=1).as_matrix()\n",
    "Train_5_X=Train_5_X.T\n",
    "index_6s = df['label'] == 6\n",
    "Train_6 = df.loc[index_6s]\n",
    "Train_6_X=Train_6.drop(['label'],axis=1).as_matrix()\n",
    "Train_6_X=Train_6_X.T\n",
    "index_7s = df['label'] == 7\n",
    "Train_7 = df.loc[index_7s]\n",
    "Train_7_X=Train_7.drop(['label'],axis=1).as_matrix()\n",
    "Train_7_X=Train_7_X.T\n",
    "index_8s = df['label'] == 8\n",
    "Train_8 = df.loc[index_8s]\n",
    "Train_8_X=Train_8.drop(['label'],axis=1).as_matrix()\n",
    "Train_8_X=Train_8_X.T\n",
    "index_9s = df['label'] == 9\n",
    "Train_9 = df.loc[index_9s]\n",
    "Train_9_X=Train_9.drop(['label'],axis=1).as_matrix()\n",
    "Train_9_X=Train_9_X.T"
   ]
  },
  {
   "cell_type": "code",
   "execution_count": 150,
   "metadata": {
    "collapsed": true
   },
   "outputs": [],
   "source": [
    "Train_0_X=Train_0_X/255.0\n",
    "Train_0_X_average=np.sum(Train_0_X,axis=1)/Train_1_X.shape[1]\n",
    "Train_1_X=Train_1_X/255.0\n",
    "Train_1_X_average=np.sum(Train_1_X,axis=1)/Train_1_X.shape[1]\n",
    "Train_2_X=Train_2_X/255.0\n",
    "Train_2_X_average=np.sum(Train_2_X,axis=1)/Train_2_X.shape[1]\n",
    "Train_3_X=Train_3_X/255.0\n",
    "Train_3_X_average=np.sum(Train_3_X,axis=1)/Train_3_X.shape[1]\n",
    "Train_4_X=Train_4_X/255.0\n",
    "Train_4_X_average=np.sum(Train_4_X,axis=1)/Train_4_X.shape[1]\n",
    "Train_5_X=Train_5_X/255.0\n",
    "Train_5_X_average=np.sum(Train_5_X,axis=1)/Train_5_X.shape[1]\n",
    "Train_6_X=Train_6_X/255.0\n",
    "Train_6_X_average=np.sum(Train_6_X,axis=1)/Train_6_X.shape[1]\n",
    "Train_7_X=Train_7_X/255.0\n",
    "Train_7_X_average=np.sum(Train_7_X,axis=1)/Train_7_X.shape[1]\n",
    "Train_8_X=Train_8_X/255.0\n",
    "Train_8_X_average=np.sum(Train_8_X,axis=1)/Train_8_X.shape[1]\n",
    "Train_9_X=Train_9_X/255.0\n",
    "Train_9_X_average=np.sum(Train_9_X,axis=1)/Train_9_X.shape[1]\n"
   ]
  },
  {
   "cell_type": "code",
   "execution_count": 148,
   "metadata": {},
   "outputs": [
    {
     "data": {
      "image/png": "[encoded data removed]",
      "text/plain": [
       "<matplotlib.figure.Figure at 0x104c4b8d0>"
      ]
     },
     "metadata": {},
     "output_type": "display_data"
    }
   ],
   "source": [
    "plt.imshow(Train_9_X_average.reshape((28,28)))\n",
    "plt.show()"
   ]
  },
  {
   "cell_type": "code",
   "execution_count": 153,
   "metadata": {},
   "outputs": [
    {
     "data": {
      "image/png": "[encoded data removed]",
      "text/plain": [
       "<matplotlib.figure.Figure at 0x109477f50>"
      ]
     },
     "metadata": {},
     "output_type": "display_data"
    }
   ],
   "source": [
    "fig = plt.figure(figsize=(9, 9))\n",
    "plt.subplot(2, 5, 1)\n",
    "plt.imshow(Train_0_X_average.reshape((28,28)))\n",
    "plt.title(\"avg weights 0 \")\n",
    "plt.subplot(2, 5, 2)\n",
    "plt.imshow(Train_1_X_average.reshape((28,28)))\n",
    "plt.title(\"avg weights 1 \")\n",
    "plt.subplot(2, 5, 3)\n",
    "plt.imshow(Train_2_X_average.reshape((28,28)))\n",
    "plt.title(\"avg weights 2 \")\n",
    "plt.subplot(2, 5, 4)\n",
    "plt.imshow(Train_3_X_average.reshape((28,28)))\n",
    "plt.title(\"avg weights 3 \")\n",
    "plt.subplot(2, 5, 5)\n",
    "plt.imshow(Train_4_X_average.reshape((28,28)))\n",
    "plt.title(\"avg weights 4 \")\n",
    "plt.subplot(2, 5, 6)\n",
    "plt.imshow(Train_5_X_average.reshape((28,28)))\n",
    "plt.title(\"avg weights 5 \")\n",
    "plt.subplot(2, 5, 7)\n",
    "plt.imshow(Train_6_X_average.reshape((28,28)))\n",
    "plt.title(\"avg weights 6 \")\n",
    "plt.subplot(2, 5, 8)\n",
    "plt.imshow(Train_7_X_average.reshape((28,28)))\n",
    "plt.title(\"avg weights 7 \")\n",
    "plt.subplot(2, 5, 9)\n",
    "plt.imshow(Train_8_X_average.reshape((28,28)))\n",
    "plt.title(\"avg weights 8 \")\n",
    "plt.subplot(2, 5, 10)\n",
    "plt.imshow(Train_9_X_average.reshape((28,28)))\n",
    "plt.title(\"avg weights 9 \")\n",
    "plt.show()"
   ]
  },
  {
   "cell_type": "code",
   "execution_count": 26,
   "metadata": {},
   "outputs": [
    {
     "data": {
      "text/plain": [
       "array([ -1.55685593e-01,  -3.66767125e-04,   5.40713490e-04,\n",
       "         1.78094659e-03,   4.60904977e-04,  -2.56277277e-05,\n",
       "        -1.18184480e-03,  -4.42298756e-04,  -1.01134065e-03,\n",
       "        -1.68022280e-04,   5.79938316e-04,  -1.43768308e-03,\n",
       "         2.32223616e-03,   1.08520645e-03,   9.33741586e-04,\n",
       "        -1.36768843e-03,  -3.00996331e-04,   1.68583978e-03,\n",
       "        -8.24778314e-04,   2.95360028e-04,   7.08782933e-04,\n",
       "         1.24369352e-04,  -4.83864995e-04,  -1.00864395e-03,\n",
       "         7.10776823e-04,   7.39275506e-04,   2.47341039e-04,\n",
       "        -5.12441290e-04,   3.36895720e-04,  -1.02952475e-04,\n",
       "        -1.36860427e-03,   3.19470614e-03,  -6.33481340e-04,\n",
       "         1.80593915e-03,  -1.23802274e-03,   6.01139496e-04,\n",
       "        -5.19758216e-04,  -6.97195986e-05,   1.22421592e-03,\n",
       "         1.54320759e-04,  -2.03431584e-03,  -1.46358110e-03,\n",
       "        -1.43689142e-03,  -1.83950537e-03,   1.03705022e-03,\n",
       "         5.29154854e-03,   1.95887347e-03,   8.85176286e-04,\n",
       "        -1.14183161e-04,  -2.48361879e-04,  -6.01936429e-04,\n",
       "        -1.76156385e-03,  -1.12028866e-03,   5.45029112e-04,\n",
       "        -3.21342963e-04,   7.87737513e-04,   7.91790070e-04,\n",
       "         5.85839973e-05,   1.84238222e-04,  -1.08158971e-03,\n",
       "        -1.50208359e-03,  -6.80320053e-04,   1.00409552e-03,\n",
       "        -1.41068859e-03,  -9.56545744e-05,  -1.80488887e-03,\n",
       "        -4.77543175e-03,  -3.22545387e-03,  -5.02342323e-03,\n",
       "        -6.94126712e-03,  -8.17381652e-03,  -1.19820315e-02,\n",
       "        -1.55118551e-02,  -1.45032112e-02,  -1.32401048e-02,\n",
       "        -1.30261702e-02,  -8.41910805e-03,  -5.44778940e-03,\n",
       "        -4.31087776e-03,  -2.18085519e-03,  -3.39900364e-03,\n",
       "        -1.04441486e-03,  -5.89651629e-04,  -3.86979272e-04,\n",
       "         1.59956050e-03,  -1.19246511e-03,  -1.34821139e-03,\n",
       "        -1.74215093e-04,  -1.37674278e-03,  -2.41751120e-04,\n",
       "        -3.84874200e-03,  -3.40852928e-03,  -6.33983128e-03,\n",
       "        -7.49486375e-03,  -1.39087081e-02,  -1.44830378e-02,\n",
       "        -1.75367148e-02,  -2.16944958e-02,  -3.23778470e-02,\n",
       "        -3.48090851e-02,  -2.64235214e-02,  -2.97869168e-02,\n",
       "        -3.85793640e-02,  -5.44558167e-02,  -5.24084414e-02,\n",
       "        -3.74325131e-02,  -2.52647626e-02,  -1.33897004e-02,\n",
       "        -4.57792320e-03,  -2.45362225e-03,   6.73026623e-04,\n",
       "         4.13881631e-05,  -2.06663035e-04,  -4.36655911e-04,\n",
       "         6.27487650e-04,  -1.72309869e-04,  -2.91243472e-04,\n",
       "        -2.50455891e-03,  -6.33059390e-03,  -7.03796823e-03,\n",
       "        -8.82402565e-03,  -1.39844039e-02,  -2.49846000e-02,\n",
       "        -2.48406430e-02,  -2.33440014e-02,  -1.34885607e-02,\n",
       "         1.60818774e-02,   2.96567875e-02,   4.43867709e-02,\n",
       "         1.18772107e-02,  -4.46985908e-03,  -2.23955189e-02,\n",
       "        -2.90291709e-02,  -2.67082707e-02,  -1.57348430e-02,\n",
       "        -1.37604759e-02,  -1.59105084e-02,  -7.14632649e-03,\n",
       "        -7.30488218e-04,  -1.13784415e-04,  -8.24348399e-04,\n",
       "        -1.83564805e-03,  -4.14581153e-04,  -9.13492230e-04,\n",
       "         3.40891821e-04,  -3.67394133e-03,  -1.27217405e-02,\n",
       "        -1.41789434e-02,  -2.45006534e-02,  -3.34754133e-02,\n",
       "        -4.84590942e-02,  -4.04353670e-02,  -2.04755747e-02,\n",
       "         1.19417738e-02,   7.86494516e-02,   1.14823928e-01,\n",
       "         1.26783974e-01,   1.15715865e-01,   1.01584283e-01,\n",
       "         6.82149057e-02,   3.39979743e-02,   3.17592612e-03,\n",
       "        -3.13842146e-03,  -1.63638906e-02,  -3.09790985e-02,\n",
       "        -2.31852756e-02,  -1.01815665e-02,  -2.45540250e-03,\n",
       "         6.51093583e-04,  -7.05866220e-04,   1.07267051e-03,\n",
       "        -2.01559227e-04,  -1.19043442e-03,  -8.12041261e-03,\n",
       "        -1.31616974e-02,  -2.15854272e-02,  -2.85023973e-02,\n",
       "        -4.60467088e-02,  -5.99993038e-02,  -2.59911508e-02,\n",
       "         4.88237279e-04,   4.24268026e-02,   7.41540219e-02,\n",
       "         8.44067610e-02,   1.23480876e-01,   1.51038859e-01,\n",
       "         1.36433787e-01,   1.17005844e-01,   8.94562221e-02,\n",
       "         4.98903504e-02,   2.89337060e-02,   4.42394326e-03,\n",
       "        -3.16936115e-02,  -3.86566780e-02,  -2.37941522e-02,\n",
       "        -5.34012563e-03,  -9.22136970e-04,   3.03905976e-04,\n",
       "        -2.20000944e-03,  -2.16854565e-03,  -5.30882761e-03,\n",
       "        -1.39070702e-02,  -1.68259387e-02,  -2.36872616e-02,\n",
       "        -3.69333213e-02,  -6.84693545e-02,  -3.17851773e-02,\n",
       "        -2.48329840e-02,  -5.76903744e-03,   2.55329399e-02,\n",
       "         2.84734732e-02,   6.42345723e-02,   9.98880187e-02,\n",
       "         1.44724836e-01,   1.67137564e-01,   1.50616486e-01,\n",
       "         1.05559825e-01,   6.52794699e-02,   4.46774125e-02,\n",
       "         1.31000435e-02,  -1.97467630e-02,  -4.01403411e-02,\n",
       "        -3.08367172e-02,  -9.08112194e-03,  -2.16530912e-05,\n",
       "         1.70816266e-03,   1.08960431e-03,  -1.56571511e-03,\n",
       "        -6.81355584e-03,  -2.23435499e-02,  -2.40921905e-02,\n",
       "        -3.12091513e-02,  -5.68857428e-02,  -5.80303077e-02,\n",
       "        -4.07641637e-02,  -2.57028324e-02,   1.54608243e-03,\n",
       "         2.63469890e-02,   4.95413113e-02,   9.27440412e-02,\n",
       "         1.09939719e-01,   1.39149989e-01,   1.53964360e-01,\n",
       "         1.63130881e-01,   1.18327929e-01,   4.62938425e-02,\n",
       "         4.46546357e-02,   5.06823973e-02,   2.23928066e-02,\n",
       "        -2.21872237e-02,  -2.99175729e-02,  -8.08698315e-03,\n",
       "         5.96703001e-04,   2.89795777e-05,   1.80590645e-04,\n",
       "        -1.04683064e-03,  -8.34674825e-03,  -2.01443110e-02,\n",
       "        -2.87182030e-02,  -2.90295721e-02,  -4.73402723e-02,\n",
       "        -3.55780765e-02,  -3.36880900e-02,   5.72788892e-03,\n",
       "         2.28054231e-02,   6.84734714e-02,   1.06360455e-01,\n",
       "         8.58943834e-02,   4.63999100e-02,   7.17644000e-02,\n",
       "         1.04527768e-01,   1.54018760e-01,   1.39600459e-01,\n",
       "         7.57753241e-02,   7.70442982e-02,   9.71768323e-02,\n",
       "         6.81538085e-02,   5.09403047e-04,  -2.40328108e-02,\n",
       "        -6.01344692e-03,  -1.92670711e-03,   2.05810315e-03,\n",
       "        -6.02142773e-05,   5.36234967e-04,  -4.54271042e-03,\n",
       "        -1.76096003e-02,  -2.14265762e-02,  -2.43932559e-02,\n",
       "        -1.47943109e-02,  -1.17258089e-02,  -1.58877299e-02,\n",
       "         2.64854069e-03,   4.28111978e-02,   7.71443653e-02,\n",
       "         5.30287018e-02,  -1.33007820e-02,  -6.79351314e-02,\n",
       "        -5.93535301e-02,   1.11834163e-02,   9.24414890e-02,\n",
       "         1.16519830e-01,   1.04989468e-01,   1.25377108e-01,\n",
       "         1.44332173e-01,   1.14128316e-01,   2.45158644e-02,\n",
       "        -1.88364446e-02,  -5.38081432e-03,  -7.63335834e-04,\n",
       "        -2.35213646e-03,  -8.30081803e-04,  -2.92753080e-03,\n",
       "        -9.27099836e-03,  -2.64867280e-02,  -2.54671945e-02,\n",
       "        -7.33994079e-03,   1.10838263e-02,   5.77827661e-03,\n",
       "        -1.49638262e-02,   1.36571624e-02,   5.19592788e-02,\n",
       "         2.26556839e-02,  -3.19273910e-02,  -1.29218320e-01,\n",
       "        -1.94073346e-01,  -2.05354039e-01,  -1.20321118e-01,\n",
       "        -6.33061120e-03,   8.66432882e-02,   1.06391589e-01,\n",
       "         1.49690923e-01,   1.84469672e-01,   1.39669970e-01,\n",
       "         4.15584924e-02,  -1.40552740e-02,  -2.22940734e-03,\n",
       "         5.56524259e-04,  -1.33373088e-03,  -1.80947106e-03,\n",
       "        -1.01909772e-03,  -8.95342893e-03,  -3.25609296e-02,\n",
       "        -1.13035799e-02,   2.13508676e-02,   3.87479950e-02,\n",
       "         2.95299983e-02,   2.34056646e-02,   7.60451481e-02,\n",
       "         4.62260300e-02,  -7.55629315e-03,  -1.15079907e-01,\n",
       "        -2.35942950e-01,  -3.01552670e-01,  -3.10628724e-01,\n",
       "        -2.07624799e-01,  -8.17691381e-02,   1.30629095e-02,\n",
       "         6.62594788e-02,   1.41139061e-01,   2.10941221e-01,\n",
       "         1.67624297e-01,   7.05542161e-02,  -3.97606467e-03,\n",
       "        -3.33044203e-04,   1.51532681e-03,  -3.92413580e-06,\n",
       "         6.59609175e-04,   2.70062955e-05,  -8.67318014e-03,\n",
       "        -3.03684825e-02,   1.41447155e-02,   6.40651249e-02,\n",
       "         7.22961569e-02,   6.11837814e-02,   8.11786237e-02,\n",
       "         1.13826739e-01,   4.60047762e-02,  -5.20430821e-02,\n",
       "        -1.96636161e-01,  -3.14941508e-01,  -3.60680372e-01,\n",
       "        -3.30894177e-01,  -2.18445604e-01,  -1.18526834e-01,\n",
       "        -3.61442201e-02,   1.26799399e-02,   1.18605990e-01,\n",
       "         1.89859780e-01,   1.73497845e-01,   7.99156022e-02,\n",
       "         1.62051820e-03,  -2.38072737e-04,   8.08108771e-04,\n",
       "         8.70040499e-04,   1.92142160e-03,   8.55542103e-04,\n",
       "        -8.98658847e-03,  -1.68283928e-02,   5.40438202e-02,\n",
       "         1.01781356e-01,   1.12207406e-01,   1.04209834e-01,\n",
       "         1.18849707e-01,   1.16100366e-01,   2.31780569e-02,\n",
       "        -1.15499929e-01,  -2.52036655e-01,  -3.53831000e-01,\n",
       "        -3.85235138e-01,  -3.34461662e-01,  -2.06878203e-01,\n",
       "        -1.08226158e-01,  -3.01138212e-02,   1.95512103e-02,\n",
       "         1.03789780e-01,   1.51144258e-01,   1.64297048e-01,\n",
       "         7.69839757e-02,  -8.06364466e-04,   1.19067800e-03,\n",
       "         5.79555401e-05,  -7.56332747e-04,  -1.07318845e-03,\n",
       "        -1.98952775e-04,  -1.10875875e-02,  -3.58637951e-03,\n",
       "         9.23969262e-02,   1.26212473e-01,   1.44127034e-01,\n",
       "         1.49593304e-01,   1.44275272e-01,   1.09942703e-01,\n",
       "        -4.25709789e-02,  -1.87036079e-01,  -3.14931381e-01,\n",
       "        -3.77320557e-01,  -3.71574140e-01,  -2.97715793e-01,\n",
       "        -1.85250224e-01,  -6.69892288e-02,   3.78563050e-03,\n",
       "         3.51096979e-02,   7.16189533e-02,   1.21202814e-01,\n",
       "         1.28422593e-01,   5.44138118e-02,  -3.09893716e-03,\n",
       "        -1.61660060e-03,   6.34475310e-04,   2.07970640e-03,\n",
       "         7.18328813e-04,  -1.24978753e-03,  -1.31017920e-02,\n",
       "         9.07853318e-04,   1.02118575e-01,   1.46062677e-01,\n",
       "         1.67229197e-01,   1.84700982e-01,   1.73926074e-01,\n",
       "         1.05720531e-01,  -5.65199503e-02,  -2.25337988e-01,\n",
       "        -3.31735926e-01,  -3.57135244e-01,  -3.13828509e-01,\n",
       "        -2.29533830e-01,  -1.15524750e-01,  -1.46615149e-02,\n",
       "         4.38396546e-02,   3.82299681e-02,   6.86220103e-02,\n",
       "         1.02620033e-01,   9.08723173e-02,   2.74505800e-02,\n",
       "        -5.86300523e-03,  -2.51934736e-04,   1.52612513e-03,\n",
       "        -1.34255988e-03,  -1.36945449e-03,  -2.46472416e-03,\n",
       "        -1.18430553e-02,   3.43654585e-03,   9.69178451e-02,\n",
       "         1.43223708e-01,   1.53186969e-01,   1.65745880e-01,\n",
       "         1.78789973e-01,   1.26426643e-01,  -2.81824827e-02,\n",
       "        -1.74509157e-01,  -2.85497658e-01,  -2.99519620e-01,\n",
       "        -2.48171577e-01,  -1.49794870e-01,  -3.86470243e-02,\n",
       "         2.57210132e-02,   4.22603427e-02,   3.93364879e-02,\n",
       "         7.18389306e-02,   9.03750805e-02,   5.26989817e-02,\n",
       "         6.09948533e-03,  -6.05038820e-03,  -1.37429242e-03,\n",
       "         1.63698719e-03,   9.20684673e-04,   4.00980049e-04,\n",
       "        -3.39171834e-03,  -1.48981334e-02,   1.56721565e-03,\n",
       "         9.01547378e-02,   1.16104436e-01,   1.41181496e-01,\n",
       "         1.42258732e-01,   1.48133875e-01,   1.22841547e-01,\n",
       "        -1.48435312e-03,  -1.29517337e-01,  -2.17448783e-01,\n",
       "        -2.09347695e-01,  -1.46771418e-01,  -6.90510060e-02,\n",
       "         5.60216782e-03,   3.24606802e-02,   3.56301055e-02,\n",
       "         2.56549800e-02,   5.92302703e-02,   4.50032789e-02,\n",
       "         9.45760102e-03,  -2.62937863e-03,  -5.58871063e-03,\n",
       "         8.29498700e-04,  -1.41356058e-03,   5.70636954e-05,\n",
       "         1.41990946e-03,  -5.47783098e-03,  -1.97821277e-02,\n",
       "        -8.81932491e-03,   5.95248858e-02,   8.40078748e-02,\n",
       "         1.11232666e-01,   1.15617838e-01,   1.23139307e-01,\n",
       "         1.22728773e-01,   5.48798186e-02,  -2.36890417e-02,\n",
       "        -9.10288332e-02,  -8.86239758e-02,  -5.46716222e-02,\n",
       "        -1.64916806e-04,   2.29822640e-02,   1.44948113e-02,\n",
       "        -1.82670244e-03,   1.65830831e-02,   3.28534185e-02,\n",
       "         4.25593916e-03,  -5.62218369e-03,  -4.66246223e-03,\n",
       "        -4.73064123e-03,   1.99167443e-04,   1.15801579e-03,\n",
       "         2.16857223e-03,   1.22560645e-03,  -4.11740950e-03,\n",
       "        -2.03696351e-02,  -1.57608080e-02,   4.86656197e-02,\n",
       "         5.03784671e-02,   6.31401436e-02,   9.06925343e-02,\n",
       "         1.15038599e-01,   1.56766799e-01,   1.27645294e-01,\n",
       "         6.18584815e-02,   7.04923873e-03,  -9.52229401e-03,\n",
       "         1.47183279e-02,   1.01383868e-02,   9.57316051e-03,\n",
       "        -3.35021853e-02,  -2.86448496e-02,   5.63334149e-04,\n",
       "        -5.16265345e-03,  -1.86432247e-02,  -1.11148329e-02,\n",
       "        -9.76959507e-03,  -4.29581466e-03,   5.67401093e-04,\n",
       "         9.90095370e-04,  -2.40461069e-03,  -6.29332047e-04,\n",
       "        -1.94201733e-03,  -1.33273255e-02,  -6.06703164e-03,\n",
       "         4.45075097e-02,   5.22534730e-02,   6.38610633e-02,\n",
       "         7.52908305e-02,   1.04111214e-01,   1.46128471e-01,\n",
       "         1.50556094e-01,   9.11904002e-02,   5.51474937e-02,\n",
       "         6.27940347e-02,   5.05567683e-02,   2.11362599e-02,\n",
       "        -1.99485336e-02,  -3.13924518e-02,  -3.14095957e-02,\n",
       "        -1.93260885e-02,  -2.36392392e-02,  -1.34144527e-02,\n",
       "        -1.01776818e-02,  -5.27172493e-03,  -3.99422218e-04,\n",
       "         1.33210330e-03,   1.36911803e-03,   5.56543157e-04,\n",
       "        -3.42251180e-04,  -3.05068311e-04,  -7.54646154e-03,\n",
       "        -8.10838195e-03,   2.64851905e-02,   5.58691727e-02,\n",
       "         5.82637093e-02,   7.58448665e-02,   1.08950842e-01,\n",
       "         1.38764975e-01,   1.59095276e-01,   1.49308739e-01,\n",
       "         1.45199409e-01,   1.06221626e-01,   6.76474398e-02,\n",
       "         1.65832193e-02,  -2.43360334e-02,  -3.03454451e-02,\n",
       "        -3.38313788e-02,  -2.69118706e-02,  -1.94380120e-02,\n",
       "        -8.77025781e-03,  -1.61527878e-03,  -3.36650822e-03,\n",
       "         5.23650224e-04,  -5.48748806e-05,  -1.20522242e-04,\n",
       "         1.24579067e-03,   3.21159269e-03,  -2.29459439e-03,\n",
       "        -2.09794949e-03,  -7.16063423e-03,   1.14371171e-03,\n",
       "         1.01682208e-02,   3.22886644e-02,   4.78890736e-02,\n",
       "         8.13444860e-02,   1.09258175e-01,   1.53626551e-01,\n",
       "         1.58632923e-01,   1.13389685e-01,   5.91292209e-02,\n",
       "         2.12840545e-02,  -6.89794586e-03,  -1.83455216e-02,\n",
       "        -3.22594470e-02,  -3.83702630e-02,  -3.22594523e-02,\n",
       "        -1.82210558e-02,  -7.50668065e-03,  -2.79161948e-03,\n",
       "        -1.93402966e-03,   5.81809156e-04,   1.18210611e-04,\n",
       "        -4.67337392e-04,   1.98909595e-03,  -1.03196829e-03,\n",
       "        -5.36753190e-04,  -2.17043147e-03,   3.09645465e-04,\n",
       "        -4.62569103e-03,  -1.32290498e-02,  -2.72908285e-02,\n",
       "        -2.90780683e-02,  -3.65617530e-02,  -3.33204793e-02,\n",
       "        -3.29014990e-02,  -1.27747090e-02,  -1.47843400e-02,\n",
       "        -1.96153557e-02,  -3.47170161e-02,  -5.10878266e-02,\n",
       "        -5.23613642e-02,  -4.51246316e-02,  -3.47825175e-02,\n",
       "        -2.75420520e-02,  -1.74772714e-02,  -6.01335286e-03,\n",
       "        -7.99747515e-04,   7.76186515e-04,  -2.72626597e-04,\n",
       "         1.10743683e-03,  -2.38992957e-03,   9.02980118e-04,\n",
       "         1.36127192e-03,   3.86535990e-05,   1.18524715e-03,\n",
       "         8.82402944e-04,  -5.45685781e-03,  -1.02267970e-02,\n",
       "        -1.74625170e-02,  -3.10124682e-02,  -4.30528793e-02,\n",
       "        -5.00769365e-02,  -4.56884377e-02,  -5.26100399e-02,\n",
       "        -5.03431275e-02,  -5.37754330e-02,  -5.33437140e-02,\n",
       "        -4.69278286e-02,  -3.62949487e-02,  -2.48816277e-02,\n",
       "        -1.55552977e-02,  -1.20562323e-02,  -8.94590942e-03,\n",
       "        -3.54490215e-03,  -1.75702894e-04,   2.53574784e-04,\n",
       "         6.79188547e-04,   3.31843795e-04,  -5.90716747e-04,\n",
       "         6.17426512e-06,   2.75580439e-05,  -1.08601889e-03,\n",
       "         4.79466769e-04,  -1.26758263e-03,  -1.60649829e-03,\n",
       "        -2.28708224e-03,  -5.03430231e-03,  -1.00908949e-02,\n",
       "        -1.42888077e-02,  -1.67991388e-02,  -1.35530460e-02,\n",
       "        -1.37813218e-02,  -1.51502850e-02,  -1.67956900e-02,\n",
       "        -1.49474414e-02,  -1.14222737e-02,  -8.54207521e-03,\n",
       "        -8.11351042e-03,  -5.46314924e-03,  -6.76978897e-03,\n",
       "        -3.25475597e-03,  -2.97572507e-03,   5.63826002e-04,\n",
       "        -5.82356163e-04,  -7.54977695e-04,  -9.55450556e-04,\n",
       "         7.99239473e-04,  -4.67821797e-04,   9.08666437e-04,\n",
       "         1.39582973e-03,  -7.31931343e-05,  -1.21997128e-03,\n",
       "        -5.54788652e-04,  -9.74506020e-04,  -2.04547063e-03,\n",
       "        -4.24734444e-04,   7.69682637e-04,  -1.61266420e-03,\n",
       "        -6.99526314e-04,  -2.19854061e-03,  -3.76319725e-03,\n",
       "        -2.42191026e-03,  -2.42768638e-03,  -2.05656383e-03,\n",
       "        -1.23415911e-03,  -2.63439474e-03,  -9.75285341e-04,\n",
       "        -3.94216423e-03,  -7.00400147e-04,  -8.66803424e-05,\n",
       "        -1.16795446e-03,   5.26627220e-04,  -4.70355704e-05,\n",
       "        -8.32335898e-04,  -1.94484454e-04])"
      ]
     },
     "execution_count": 26,
     "metadata": {},
     "output_type": "execute_result"
    }
   ],
   "source": [
    "w[:,0]"
   ]
  },
  {
   "cell_type": "code",
   "execution_count": null,
   "metadata": {
    "collapsed": true
   },
   "outputs": [],
   "source": []
  }
 ],
 "metadata": {
  "kernelspec": {
   "display_name": "Python 2",
   "language": "python",
   "name": "python2"
  },
  "language_info": {
   "codemirror_mode": {
    "name": "ipython",
    "version": 2
   },
   "file_extension": ".py",
   "mimetype": "text/x-python",
   "name": "python",
   "nbconvert_exporter": "python",
   "pygments_lexer": "ipython2",
   "version": "2.7.14"
  }
 },
 "nbformat": 4,
 "nbformat_minor": 2
}
