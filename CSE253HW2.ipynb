{
 "cells": [
  {
   "cell_type": "code",
   "execution_count": 1,
   "metadata": {
    "collapsed": true
   },
   "outputs": [],
   "source": [
    "import numpy as np\n",
    "import pandas as pd\n",
    "import matplotlib.pyplot as plt\n",
    "import math"
   ]
  },
  {
   "cell_type": "code",
   "execution_count": 2,
   "metadata": {
    "collapsed": true
   },
   "outputs": [],
   "source": [
    "from mnist import MNIST\n",
    "mndata = MNIST('../HW1/mnistdata')\n",
    "Train_images, Train_labels = mndata.load_training()\n",
    "Test_images, Test_labels = mndata.load_testing()"
   ]
  },
  {
   "cell_type": "markdown",
   "metadata": {},
   "source": [
    "Data Pre-Processing"
   ]
  },
  {
   "cell_type": "code",
   "execution_count": 3,
   "metadata": {
    "collapsed": true
   },
   "outputs": [],
   "source": [
    "Train_X = np.array(Train_images).T\n",
    "Train_Y = np.array(Train_labels)   \n",
    "Test_X = np.array(Test_images).T\n",
    "Test_Y = np.array(Test_labels)"
   ]
  },
  {
   "cell_type": "code",
   "execution_count": 4,
   "metadata": {
    "collapsed": true
   },
   "outputs": [],
   "source": [
    "#data pre-processing\n",
    "Train_X=Train_X/127.5-1\n",
    "Test_X=Test_X/127.5-1\n",
    "one=np.ones((1,Train_X.shape[1]))\n",
    "Train_X=np.concatenate((one,Train_X),axis=0)\n",
    "one=np.ones((1,Test_X.shape[1]))\n",
    "Test_X=np.concatenate((one,Test_X),axis=0)"
   ]
  },
  {
   "cell_type": "code",
   "execution_count": 5,
   "metadata": {
    "collapsed": true
   },
   "outputs": [],
   "source": [
    "#shuffle data\n",
    "shuffle_index = list(np.random.permutation(Train_X.shape[1]))\n",
    "Train_X = Train_X[:, shuffle_index]\n",
    "Train_Y = Train_Y[shuffle_index]"
   ]
  },
  {
   "cell_type": "code",
   "execution_count": 6,
   "metadata": {
    "collapsed": true
   },
   "outputs": [],
   "source": [
    "Valid_X=Train_X[:,50000:]\n",
    "Train_X=Train_X[:,:50000]\n",
    "Valid_Y=Train_Y[50000:]\n",
    "Train_Y=Train_Y[:50000]\n"
   ]
  },
  {
   "cell_type": "code",
   "execution_count": 7,
   "metadata": {
    "collapsed": true
   },
   "outputs": [],
   "source": [
    "def sigmoid(x):\n",
    "    return 1.0/(1.0+np.exp(-x)) \n",
    "\n",
    "def cal_wx(w,x):\n",
    "    return np.dot(w.T,x)\n",
    "\n",
    "\n",
    "def cross_entropy(w,x,y):\n",
    "    t=sigmoid(cal_wx(w,x)) # calculate activation\n",
    "    cost_E= -1.0/(x.shape[1]) * np.sum(y*np.log(t)+(1-y)*np.log(1-t)) #calculate cost E\n",
    "    dw = 1.0/(x.shape[1])*np.dot((y-t),x.T)\n",
    "    return cost_E,dw\n",
    "\n",
    "def softmax(a):\n",
    "    a-=np.max(a,axis=0,keepdims=True) #stabilize\n",
    "    sum_a=np.sum(np.exp(a),axis=0,keepdims=True)\n",
    "    y_k= np.exp(a)/sum_a\n",
    "    return y_k\n",
    "\n",
    "def build_mask(y):\n",
    "    mask=np.zeros((10,len(y)))\n",
    "    mask[y,np.arange(len(y))] = 1\n",
    "    return mask\n",
    "\n",
    "\n",
    "def predict_softmax(w1,w2,b2,x,y):\n",
    "    z = np.dot(w1.T,x)\n",
    "    a1 = sigmoid(z)\n",
    "    a= np.dot(w2.T,a1)+b2\n",
    "    y_k = softmax(a)\n",
    "    y_pred = y_k.argmax(axis=0)\n",
    "    correct = [(a==b) for (a,b) in zip(y_pred,y)]\n",
    "    acc = sum(correct) * 1.0 / len(correct)\n",
    "    return acc\n",
    "\n",
    "def predict_softmax_tanh(w1,w2,b2,x,y):\n",
    "    z = np.dot(w1.T,x)\n",
    "    a1 = tanh(z)\n",
    "    a= np.dot(w2.T,a1)+b2\n",
    "    y_k = softmax(a)\n",
    "    y_pred = y_k.argmax(axis=0)\n",
    "    correct = [(a==b) for (a,b) in zip(y_pred,y)]\n",
    "    acc = sum(correct) * 1.0 / len(correct)\n",
    "    return acc\n",
    "\n",
    "\n",
    "\n",
    "def mini_batches(x, y, mini_batch_size = 128):\n",
    "    \n",
    "    m = x.shape[1]                  \n",
    "    mini_batches = []\n",
    "        \n",
    "    #calculate number of complete batches\n",
    "    num_complete_minibatches = m//mini_batch_size \n",
    "    for k in range(0, num_complete_minibatches):\n",
    "        mini_batch_x = x[:,k * mini_batch_size:(k + 1) * mini_batch_size]\n",
    "        mini_batch_y = y[k * mini_batch_size:(k + 1) * mini_batch_size]\n",
    "        mini_batch = (mini_batch_x, mini_batch_y)\n",
    "        mini_batches.append(mini_batch)\n",
    "    \n",
    "    if m % mini_batch_size != 0:\n",
    "        end = m - mini_batch_size * math.floor(m / mini_batch_size)\n",
    "        mini_batch_x = x[:,num_complete_minibatches * mini_batch_size:]\n",
    "        mini_batch_y = y[num_complete_minibatches * mini_batch_size:]\n",
    "        mini_batch = (mini_batch_x, mini_batch_y)\n",
    "        mini_batches.append(mini_batch)\n",
    "    \n",
    "    return mini_batches\n",
    "\n",
    "def tanh(x):\n",
    "    return 2*sigmoid(2*x)-1"
   ]
  },
  {
   "cell_type": "code",
   "execution_count": 8,
   "metadata": {
    "collapsed": true
   },
   "outputs": [],
   "source": [
    "# initilize\n",
    "hidden_layer_units = 64\n",
    "n_h = 64\n",
    "n_x = Train_X.shape[0]\n",
    "n_y = 10"
   ]
  },
  {
   "cell_type": "code",
   "execution_count": 9,
   "metadata": {
    "collapsed": true
   },
   "outputs": [],
   "source": [
    " def cross_entro_soft(x,y,w2,a):\n",
    "    a2= np.dot(w2.T,a)\n",
    "    mask = build_mask(y)\n",
    "    y_k = softmax(a2)\n",
    "    E = -np.sum(np.log(y_k[y,np.arange(x.shape[1])]))/x.shape[1]/10\n",
    "    dw2= 1.0*np.dot((mask-y_k),a.T)/a.shape[1]\n",
    "    dhidden = np.dot(w2,(mask-y_k))\n",
    "    dhidden[a <= 0] = 0\n",
    "    #s = 1/(1+np.exp(-z))\n",
    "    #temp = a * (1 - a)\n",
    "    dw1 = np.dot((dhidden),x.T)/a.shape[1]\n",
    "    return E,dw2,dw1"
   ]
  },
  {
   "cell_type": "code",
   "execution_count": 15,
   "metadata": {
    "collapsed": true
   },
   "outputs": [],
   "source": [
    "def loss(x, y,w1,w2,b2, reg=0.0):\n",
    "    \n",
    "    z = np.dot(w1.T,x)  # hidden layer\n",
    "    a = sigmoid(z)      #sigmoid activation function\n",
    "    a2 = np.dot(w2.T,a) +b2\n",
    "    mask = build_mask(y)  #one hot coding\n",
    "    y_k = softmax(a2)    \n",
    "    E = -np.sum(np.log(y_k[y,np.arange(x.shape[1])]))/x.shape[1]/10 # cross entropy\n",
    "    E+=0.5*reg*np.sum(w1**2)   \n",
    "    E+=0.5*reg*np.sum(w2**2)\n",
    "    \n",
    "    #backprop\n",
    "    dw2= 1.0*np.dot((mask-y_k),a.T)/a.shape[1]\n",
    "    dhidden = np.dot(w2,(mask-y_k))\n",
    "    temp = a * (1 - a)\n",
    "    dw1 = np.dot((temp*dhidden),x.T)/a.shape[1]\n",
    "    dw2 += reg * w2.T\n",
    "    dw1 += reg * w1.T\n",
    "    db2 = np.sum((mask-y_k), axis=1)/a.shape[1]\n",
    "\n",
    "    return E, dw1,dw2,db2"
   ]
  },
  {
   "cell_type": "code",
   "execution_count": 16,
   "metadata": {
    "collapsed": true
   },
   "outputs": [],
   "source": [
    "def loss_tanh(x, y,w1,w2,b2, reg=0.0):\n",
    "    \n",
    "    z = np.dot(w1.T,x)  # hidden layer\n",
    "    a0 = sigmoid(2*z)\n",
    "    a = tanh(z)      #sigmoid activation function\n",
    "    a2 = np.dot(w2.T,a) +b2\n",
    "    mask = build_mask(y)  #one hot coding\n",
    "    y_k = softmax(a2)    \n",
    "    E = -np.sum(np.log(y_k[y,np.arange(x.shape[1])]))/x.shape[1]/10 # cross entropy\n",
    "    E+=0.5*reg*np.sum(w1**2)   \n",
    "    E+=0.5*reg*np.sum(w2**2)\n",
    "    \n",
    "    #backprop\n",
    "    dw2= 1.0*np.dot((mask-y_k),a.T)/a.shape[1]\n",
    "    dhidden = np.dot(w2,(mask-y_k))\n",
    "    temp = 4*a0 * (1 - a0)\n",
    "    dw1 = np.dot((temp*dhidden),x.T)/a.shape[1]\n",
    "    dw2 += reg * w2.T\n",
    "    dw1 += reg * w1.T\n",
    "    db2 = np.sum((mask-y_k), axis=1)/a.shape[1]\n",
    "\n",
    "    return E, dw1,dw2,db2"
   ]
  },
  {
   "cell_type": "code",
   "execution_count": 17,
   "metadata": {
    "collapsed": true
   },
   "outputs": [],
   "source": [
    "# w1 = np.random.randn(n_x,n_h)*0.001\n",
    "# w2 = np.random.randn(n_h,n_y)*0.001\n",
    "b2 = np.zeros((n_y,1)) #bias for w2\n",
    "#fan-in\n",
    "w1 = np.random.randn(n_x,n_h)/np.sqrt(50890)\n",
    "w2 = np.random.randn(n_h,n_y)/np.sqrt(650)\n",
    "\n",
    "#E, dw1,dw2 = loss(Train_X, Train_Y,w1,w2, reg=0.0)\n"
   ]
  },
  {
   "cell_type": "code",
   "execution_count": 18,
   "metadata": {
    "collapsed": true
   },
   "outputs": [],
   "source": [
    "#gradient check w1\n",
    "def costplus(x,y, w1,w2,b2, epsilon=1e-2):\n",
    "    w1_plus = w1\n",
    "    w1_plus[0,10] = w1_plus[0,10]+epsilon\n",
    "    cost_plus,_,_,_ = loss(x, y,w1_plus,w2,b2, reg=0.0)    \n",
    "    return cost_plus\n",
    "\n",
    "def costminus(x,y, w1,w2, b2,epsilon=1e-2):\n",
    "    w1_minus = w1\n",
    "    w1_minus[0,10] = w1_minus[0,10]-epsilon\n",
    "    cost_minus,_,_,_ = loss(x, y,w1_minus,w2,b2, reg=0.0)    \n",
    "    return cost_minus\n",
    "\n",
    "def gradient_check(cost_p,cost_m,epsilon = 1e-2):\n",
    "    slope = (cost_p - cost_m)*1.0 / (2 * epsilon)    \n",
    "    return slope"
   ]
  },
  {
   "cell_type": "code",
   "execution_count": 19,
   "metadata": {},
   "outputs": [
    {
     "name": "stdout",
     "output_type": "stream",
     "text": [
      "-2.69604608943e-05\n",
      "0.000566091028036\n"
     ]
    }
   ],
   "source": [
    "cost_plus = costplus(Train_X,Train_Y, w1,w2,b2, epsilon=1e-2)\n",
    "cost_minus = costminus(Train_X,Train_Y, w1,w2,b2, epsilon=1e-2)\n",
    "slope = gradient_check(cost_plus,cost_minus,epsilon = 1e-2)\n",
    "_,dw1,dw2,_ = loss(Train_X, Train_Y,w1,w2,b2, reg=0.0)\n",
    "E,_,_,_=loss(Train_X,Train_Y, w1,w2,b2)\n",
    "print slope\n",
    "print dw1.T[0,10] - slope"
   ]
  },
  {
   "cell_type": "code",
   "execution_count": 15,
   "metadata": {
    "collapsed": true
   },
   "outputs": [],
   "source": [
    "#gradient check w1\n",
    "def costplus_w2(x,y, w1,w2,b2, epsilon=1e-2):\n",
    "    w2_plus = w2\n",
    "    w2_plus[0,0] = w2_plus[0,0]+epsilon\n",
    "    cost_plus,_,_,_ = loss(x, y,w1,w2_plus,b2, reg=0.0)    \n",
    "    return cost_plus\n",
    "\n",
    "def costminus_w2(x,y, w1,w2, b2,epsilon=1e-2):\n",
    "    w2_minus = w2\n",
    "    w2_minus[0,0] = w2_minus[0,0]-epsilon\n",
    "    cost_minus,_,_,_ = loss(x, y,w1,w2_minus,b2, reg=0.0)    \n",
    "    return cost_minus\n"
   ]
  },
  {
   "cell_type": "code",
   "execution_count": 16,
   "metadata": {},
   "outputs": [
    {
     "name": "stdout",
     "output_type": "stream",
     "text": [
      "0.000684039639448\n"
     ]
    }
   ],
   "source": [
    "cost_plus = costplus_w2(Train_X,Train_Y, w1,w2,b2, epsilon=1e-2)\n",
    "cost_minus = costminus_w2(Train_X,Train_Y, w1,w2,b2, epsilon=1e-2)\n",
    "slope = gradient_check(cost_plus,cost_minus,epsilon = 1e-2)\n",
    "print slope\n"
   ]
  },
  {
   "cell_type": "markdown",
   "metadata": {},
   "source": [
    "slope is in range less than 10e-4,so the gradient is right."
   ]
  },
  {
   "cell_type": "code",
   "execution_count": 18,
   "metadata": {
    "collapsed": true
   },
   "outputs": [],
   "source": [
    "\n",
    "def mini_optimize_reg_softmax(w1,w2,b2, x, y, x_hold,y_hold, x_test,y_test,num_epochs, learning_rate ,reg,mini_batch_size):\n",
    "    costs = []\n",
    "    costs_hold = []\n",
    "    costs_test = []\n",
    "    accuracy_train = []\n",
    "    accuracy_hold = []\n",
    "    accuracy_test = []\n",
    "    cost_epoch = []\n",
    "    v1 = np.zeros_like(w1)\n",
    "    v2 = np.zeros_like(w2)\n",
    "    v3 = np.zeros_like(b2)\n",
    "    alpha = 0.9\n",
    "    for i in range(num_epochs):\n",
    "        \n",
    "        #shuffle data\n",
    "        shuffle_index = list(np.random.permutation(x.shape[1]))\n",
    "        x = x[:, shuffle_index]\n",
    "        y = y[shuffle_index]\n",
    "        minibatches = mini_batches(x, y, mini_batch_size )\n",
    "        \n",
    "        for minibatch in minibatches:\n",
    "            (minibatch_x, minibatch_y) = minibatch\n",
    "            _,dw1,dw2,db2 = loss_tanh(minibatch_x, minibatch_y,w1,w2,b2, reg=reg)\n",
    "            \n",
    "    \n",
    "            #updata gradients and learning rate decay            \n",
    "            w1 += learning_rate*dw1.T\n",
    "            w2 += learning_rate*dw2.T\n",
    "            b2 += learning_rate*db2.reshape((10,1))\n",
    "            learning_rate/=(1+i/1000) #learning rate decay\n",
    "            \n",
    "            \n",
    "           # update with moment\n",
    "#             v1 = 0.9 * v1 - learning_rate * (-dw1).T\n",
    "#             v2 = 0.9 * v2 - learning_rate * (-dw2).T\n",
    "#             v3 = 0.9 * v3 - learning_rate * (-db2.reshape((10,1)))\n",
    "            \n",
    "#             w1  += v1\n",
    "#             w2  += v2\n",
    "#             b2  += v3\n",
    "#             learning_rate/=(1+i/1000) #learning rate decay\n",
    "\n",
    "            \n",
    "        \n",
    "\n",
    "        # Cost for train\n",
    "        cost_E,_,_,_ = loss_tanh(x, y,w1,w2,b2, reg=reg)  \n",
    "        \n",
    "        # Cost for holdout\n",
    "        cost_E_hold,_,_,_ = loss_tanh(x_hold, y_hold,w1,w2,b2, reg=reg) \n",
    "        \n",
    "        \n",
    "        #cost for test\n",
    "        cost_E_test,_,_,_ = loss_tanh(x_test, y_test,w1,w2,b2, reg=reg) \n",
    "        \n",
    "        #calculate accuracy \n",
    "        acc_train =predict_softmax_tanh(w1,w2,b2,x,y)\n",
    "        acc_hold = predict_softmax_tanh(w1,w2,b2,x_hold,y_hold)\n",
    "        acc_test = predict_softmax_tanh(w1,w2,b2,x_test,y_test)\n",
    "\n",
    "        cost_epoch.append(cost_E_hold)\n",
    "        \n",
    "        #early stop\n",
    "        if i > 3:\n",
    "            if cost_epoch[-3:] == sorted(cost_epoch[-3:]):\n",
    "                break\n",
    "        \n",
    "\n",
    "        # Record the costs and acc\n",
    "        if i % 20 == 0:\n",
    "            costs.append(cost_E)\n",
    "            costs_hold.append(cost_E_hold)\n",
    "            costs_test.append(cost_E_test)\n",
    "            accuracy_train.append(acc_train)\n",
    "            accuracy_hold.append(acc_hold)\n",
    "            accuracy_test.append(acc_test)\n",
    "            print \"Train Cost after iteration %i: %f\" %(i, cost_E)\n",
    "            print \"Accuracy for train is \", acc_train\n",
    "           # print \"Accuracy for hold is \", acc_hold\n",
    "            #print \"Accuracy for test is \", acc_test\n",
    "            \n",
    "        \n",
    "    return  w1,w2,costs,costs_hold,costs_test,accuracy_train,accuracy_hold,accuracy_test"
   ]
  },
  {
   "cell_type": "code",
   "execution_count": 21,
   "metadata": {},
   "outputs": [
    {
     "name": "stdout",
     "output_type": "stream",
     "text": [
      "Train Cost after iteration 0: 0.138095\n",
      "Accuracy for train is  0.74684\n",
      "Train Cost after iteration 20: 0.027382\n",
      "Accuracy for train is  0.9224\n",
      "Train Cost after iteration 40: 0.021256\n",
      "Accuracy for train is  0.93988\n",
      "Train Cost after iteration 60: 0.017414\n",
      "Accuracy for train is  0.95154\n",
      "Train Cost after iteration 80: 0.014823\n",
      "Accuracy for train is  0.95904\n",
      "Train Cost after iteration 100: 0.012955\n",
      "Accuracy for train is  0.96418\n",
      "Train Cost after iteration 120: 0.011576\n",
      "Accuracy for train is  0.96852\n",
      "Train Cost after iteration 140: 0.010359\n",
      "Accuracy for train is  0.97192\n",
      "Train Cost after iteration 160: 0.009400\n",
      "Accuracy for train is  0.97536\n",
      "Train Cost after iteration 180: 0.008644\n",
      "Accuracy for train is  0.97786\n"
     ]
    }
   ],
   "source": [
    " w1,w2,costs,costs_hold,costs_test,accuracy_train,accuracy_hold,accuracy_test = mini_optimize_reg_softmax(w1,w2,b2, Train_X, Train_Y, Valid_X,Valid_Y, Test_X,Test_Y,500, 0.005 ,0,mini_batch_size=128)"
   ]
  },
  {
   "cell_type": "code",
   "execution_count": 22,
   "metadata": {},
   "outputs": [
    {
     "data": {
      "image/png": "[encoded data removed]",
      "text/plain": [
       "<matplotlib.figure.Figure at 0x11a41a850>"
      ]
     },
     "metadata": {},
     "output_type": "display_data"
    }
   ],
   "source": [
    "costs = np.squeeze(costs)\n",
    "costs_hold = np.squeeze(costs_hold)\n",
    "costs_test = np.squeeze(costs_test)\n",
    "plt.plot(costs,color = 'blue',label='Training Cost')\n",
    "plt.plot(costs_hold,color = 'red',label='Holdout Cost')\n",
    "plt.plot(costs_test,color = 'green',label='Test Cost')\n",
    "plt.ylabel('cost')\n",
    "plt.xlabel('iterations (per twenty)')\n",
    "plt.title(\"Learning rate =\" + str(0.005))\n",
    "plt.legend()\n",
    "plt.show()"
   ]
  },
  {
   "cell_type": "code",
   "execution_count": 23,
   "metadata": {},
   "outputs": [
    {
     "name": "stdout",
     "output_type": "stream",
     "text": [
      "0.97786 0.9611 0.9671\n"
     ]
    }
   ],
   "source": [
    "print accuracy_train[-1],accuracy_hold[-1],accuracy_test[-1]"
   ]
  },
  {
   "cell_type": "code",
   "execution_count": 24,
   "metadata": {},
   "outputs": [
    {
     "data": {
      "image/png": "[encoded data removed]",
      "text/plain": [
       "<matplotlib.figure.Figure at 0x11a41a250>"
      ]
     },
     "metadata": {},
     "output_type": "display_data"
    }
   ],
   "source": [
    "plt.plot(accuracy_train, label='Train Accuracy')\n",
    "plt.plot(accuracy_hold, label='Holdout Accuracy')\n",
    "plt.plot(accuracy_test,label='Test Accuracy')\n",
    "plt.xlabel('iterations (per twenty)')\n",
    "plt.title(\"accuracy\")\n",
    "plt.legend()\n",
    "plt.show()"
   ]
  },
  {
   "cell_type": "code",
   "execution_count": 35,
   "metadata": {
    "collapsed": true
   },
   "outputs": [],
   "source": [
    "# 2 hidden layers\n",
    "# initilize\n",
    "#hidden_layer_units = 64\n",
    "n_h1 = 64\n",
    "n_h2 = 64\n",
    "n_x = Train_X.shape[0]\n",
    "n_y = 10\n",
    "#fan-in\n",
    "b3 = np.zeros((n_y,1)) #bias for w2\n",
    "b2 = np.zeros((n_h2,1))\n",
    "w1 = np.random.randn(n_x,n_h1)/np.sqrt(50890)\n",
    "w2 = np.random.randn(n_h1,n_h2)/np.sqrt(4096)\n",
    "w3 = np.random.randn(n_h2,n_y)/np.sqrt(640)"
   ]
  },
  {
   "cell_type": "code",
   "execution_count": 36,
   "metadata": {
    "collapsed": true
   },
   "outputs": [],
   "source": [
    "def loss_2hidden(x, y,w1,w2,w3,b2,b3, reg=0.0):\n",
    "    \n",
    "    z1 = np.dot(w1.T,x)\n",
    "    a1 = sigmoid(z1)\n",
    "    z2 = np.dot(w2.T,a1)+b2\n",
    "    a2 = sigmoid(z2)\n",
    "    z3 = np.dot(w3.T,a2)+b3\n",
    "    #one hot coding\n",
    "    mask = build_mask(y)\n",
    "    y_k = softmax(z3)\n",
    "    E = -np.sum(np.log(y_k[y,np.arange(x.shape[1])]))/x.shape[1]/10 \n",
    "    E+=0.5*reg*np.sum(w1**2)\n",
    "    E+=0.5*reg*np.sum(w2**2)\n",
    "    E+=0.5*reg*np.sum(w3**2)\n",
    "\n",
    "    #backprop\n",
    "    dw3= 1.0*np.dot((mask-y_k),a2.T)/a2.shape[1]\n",
    "    db3 = np.sum((mask-y_k), axis=1)/a2.shape[1]\n",
    "    delta3 = mask-y_k\n",
    "    temp2 = a2 * (1 - a2)\n",
    "    delta2 = temp2*np.dot(w3,delta3)\n",
    "    db2 = np.sum(delta2,axis =1)/a1.shape[1]\n",
    "    dw2 = np.dot(delta2,a1.T)/a1.shape[1]\n",
    "    \n",
    "    temp1 = a1 * (1 - a1)\n",
    "    delta1 = temp1*np.dot(w2,delta2)\n",
    "    dw1 = np.dot(delta1,x.T)/x.shape[1]\n",
    "    \n",
    "    \n",
    "    dw3 += reg * w3.T\n",
    "    dw2 += reg * w2.T\n",
    "    dw1 += reg * w1.T\n",
    "\n",
    "    return E, dw1,dw2,dw3, db2,db3"
   ]
  },
  {
   "cell_type": "code",
   "execution_count": 37,
   "metadata": {
    "collapsed": true
   },
   "outputs": [],
   "source": [
    "def predict_softmax_hidden2(w1,w2,w3,b2,b3,x,y):\n",
    "    z1 = np.dot(w1.T,x)\n",
    "    a1 = sigmoid(z1)\n",
    "    z2 = np.dot(w2.T,a1)+b2\n",
    "    a2 = sigmoid(z2)\n",
    "    z3 = np.dot(w3.T,a2)+b3\n",
    "    y_k = softmax(z3)\n",
    "    y_pred = y_k.argmax(axis=0)\n",
    "    correct = [(a==b) for (a,b) in zip(y_pred,y)]\n",
    "    acc = sum(correct) * 1.0 / len(correct)\n",
    "    return acc"
   ]
  },
  {
   "cell_type": "code",
   "execution_count": 44,
   "metadata": {
    "collapsed": true
   },
   "outputs": [],
   "source": [
    "def mini_optimize_reg_softmax_hidden2(w1,w2,w3,b2,b3, x, y, x_hold,y_hold, x_test,y_test,num_epochs, learning_rate ,reg,mini_batch_size):\n",
    "    costs = []\n",
    "    costs_hold = []\n",
    "    costs_test = []\n",
    "    accuracy_train = []\n",
    "    accuracy_hold = []\n",
    "    accuracy_test = []\n",
    "    cost_epoch = []\n",
    "    v1 = np.zeros_like(w1)\n",
    "    v2 = np.zeros_like(w2)\n",
    "    v3 = np.zeros_like(w3)\n",
    "    v4 = np.zeros_like(b2)\n",
    "    v5 = np.zeros_like(b3)\n",
    "    alpha = 0.9\n",
    "    for i in range(num_epochs):\n",
    "        #shuffle\n",
    "        shuffle_index = list(np.random.permutation(x.shape[1]))\n",
    "        x = x[:, shuffle_index]\n",
    "        y = y[shuffle_index]\n",
    "        minibatches = mini_batches(x, y, mini_batch_size )\n",
    "        \n",
    "        for minibatch in minibatches:\n",
    "            (minibatch_x, minibatch_y) = minibatch\n",
    "            _,dw1,dw2,dw3,db2,db3 = loss_2hidden(minibatch_x, minibatch_y,w1,w2,w3,b2,b3, reg=reg)\n",
    "\n",
    "            \n",
    "            #updata gradients and learning rate decay            \n",
    "            #w1 += learning_rate*dw1.T\n",
    "            #w2 += learning_rate*dw2.T\n",
    "            #learning_rate/=(1+i/1000) #learning rate decay\n",
    "            \n",
    "            \n",
    "            #update with moment\n",
    "            v1 = 0.9 * v1 - learning_rate * (-dw1).T\n",
    "            v2 = 0.9 * v2 - learning_rate * (-dw2).T\n",
    "            v3 = 0.9 * v3 - learning_rate * (-dw3).T\n",
    "            v4 = 0.9 * v4 - learning_rate * (-db2.reshape((64,1)))\n",
    "            v5 = 0.9 * v5 - learning_rate * (-db3.reshape((10,1)))\n",
    "            #updata\n",
    "            w1  += v1\n",
    "            w2  += v2\n",
    "            w3  += v3\n",
    "            b2  += v4\n",
    "            b3  += v5\n",
    "            \n",
    "            learning_rate/=(1+i/1000) #learning rate decay\n",
    "\n",
    "            \n",
    "        \n",
    "\n",
    "        # Cost for train\n",
    "        cost_E,_,_,_,_,_ = loss_2hidden(x, y,w1,w2,w3,b2,b3 ,reg=0.0)  \n",
    "        \n",
    "        # Cost for holdout\n",
    "        cost_E_hold,_,_,_,_,_ = loss_2hidden(x_hold, y_hold,w1,w2,w3,b2,b3 ,reg=0.0) \n",
    "        \n",
    "        \n",
    "        #cost for test\n",
    "        cost_E_test,_,_,_,_,_ = loss_2hidden(x_test, y_test,w1,w2,w3,b2,b3, reg=0.0) \n",
    "        \n",
    "        #calculate accuracy \n",
    "        acc_train =predict_softmax_hidden2(w1,w2,w3,b2,b3,x,y)\n",
    "        acc_hold = predict_softmax_hidden2(w1,w2,w3,b2,b3,x_hold,y_hold)\n",
    "        acc_test = predict_softmax_hidden2(w1,w2,w3,b2,b3,x_test,y_test)\n",
    "\n",
    "        cost_epoch.append(cost_E_hold)\n",
    "        \n",
    "        #early stop\n",
    "        if i > 3:\n",
    "            if cost_epoch[-3:] == sorted(cost_epoch[-3:]):\n",
    "                break\n",
    "        \n",
    "\n",
    "        # Record the costs and acc\n",
    "        if i % 2 == 0:\n",
    "            costs.append(cost_E)\n",
    "            costs_hold.append(cost_E_hold)\n",
    "            costs_test.append(cost_E_test)\n",
    "            accuracy_train.append(acc_train)\n",
    "            accuracy_hold.append(acc_hold)\n",
    "            accuracy_test.append(acc_test)\n",
    "            print \"Train Cost after iteration %i: %f\" %(i, cost_E)\n",
    "            print \"Accuracy for train is \", acc_train\n",
    "           # print \"Accuracy for hold is \", acc_hold\n",
    "            #print \"Accuracy for test is \", acc_test\n",
    "            \n",
    "        \n",
    "    return  w1,w2,w3,costs,costs_hold,costs_test,accuracy_train,accuracy_hold,accuracy_test"
   ]
  },
  {
   "cell_type": "code",
   "execution_count": 45,
   "metadata": {},
   "outputs": [
    {
     "name": "stdout",
     "output_type": "stream",
     "text": [
      "Train Cost after iteration 0: 0.128621\n",
      "Accuracy for train is  0.52296\n",
      "Train Cost after iteration 2: 0.100693\n",
      "Accuracy for train is  0.68964\n",
      "Train Cost after iteration 4: 0.070012\n",
      "Accuracy for train is  0.81496\n",
      "Train Cost after iteration 6: 0.054752\n",
      "Accuracy for train is  0.8582\n",
      "Train Cost after iteration 8: 0.046377\n",
      "Accuracy for train is  0.87892\n",
      "Train Cost after iteration 10: 0.040584\n",
      "Accuracy for train is  0.89298\n",
      "Train Cost after iteration 12: 0.036410\n",
      "Accuracy for train is  0.90358\n",
      "Train Cost after iteration 14: 0.033051\n",
      "Accuracy for train is  0.91114\n",
      "Train Cost after iteration 16: 0.030293\n",
      "Accuracy for train is  0.91894\n",
      "Train Cost after iteration 18: 0.027468\n",
      "Accuracy for train is  0.92652\n",
      "Train Cost after iteration 20: 0.025416\n",
      "Accuracy for train is  0.93172\n",
      "Train Cost after iteration 22: 0.023543\n",
      "Accuracy for train is  0.93612\n",
      "Train Cost after iteration 24: 0.021864\n",
      "Accuracy for train is  0.94014\n",
      "Train Cost after iteration 26: 0.020465\n",
      "Accuracy for train is  0.94412\n",
      "Train Cost after iteration 28: 0.019047\n",
      "Accuracy for train is  0.94796\n",
      "Train Cost after iteration 30: 0.018449\n",
      "Accuracy for train is  0.9492\n",
      "Train Cost after iteration 32: 0.017167\n",
      "Accuracy for train is  0.95324\n",
      "Train Cost after iteration 34: 0.016223\n",
      "Accuracy for train is  0.95578\n",
      "Train Cost after iteration 36: 0.015711\n",
      "Accuracy for train is  0.95694\n",
      "Train Cost after iteration 38: 0.014663\n",
      "Accuracy for train is  0.96044\n",
      "Train Cost after iteration 40: 0.014069\n",
      "Accuracy for train is  0.9625\n",
      "Train Cost after iteration 42: 0.013404\n",
      "Accuracy for train is  0.96346\n",
      "Train Cost after iteration 44: 0.012815\n",
      "Accuracy for train is  0.96524\n",
      "Train Cost after iteration 46: 0.012277\n",
      "Accuracy for train is  0.96684\n",
      "Train Cost after iteration 48: 0.011871\n",
      "Accuracy for train is  0.96696\n",
      "Train Cost after iteration 50: 0.011719\n",
      "Accuracy for train is  0.96876\n",
      "Train Cost after iteration 52: 0.011454\n",
      "Accuracy for train is  0.9685\n",
      "Train Cost after iteration 54: 0.010603\n",
      "Accuracy for train is  0.9713\n",
      "Train Cost after iteration 56: 0.010266\n",
      "Accuracy for train is  0.97178\n",
      "Train Cost after iteration 58: 0.009843\n",
      "Accuracy for train is  0.9734\n",
      "Train Cost after iteration 60: 0.009406\n",
      "Accuracy for train is  0.97492\n",
      "Train Cost after iteration 62: 0.009223\n",
      "Accuracy for train is  0.97526\n",
      "Train Cost after iteration 64: 0.008875\n",
      "Accuracy for train is  0.97662\n",
      "Train Cost after iteration 66: 0.008718\n",
      "Accuracy for train is  0.97702\n",
      "Train Cost after iteration 68: 0.008506\n",
      "Accuracy for train is  0.97728\n",
      "Train Cost after iteration 70: 0.008184\n",
      "Accuracy for train is  0.97896\n",
      "Train Cost after iteration 72: 0.007820\n",
      "Accuracy for train is  0.97984\n",
      "Train Cost after iteration 74: 0.007775\n",
      "Accuracy for train is  0.97954\n",
      "Train Cost after iteration 76: 0.007314\n",
      "Accuracy for train is  0.98164\n",
      "Train Cost after iteration 78: 0.007182\n",
      "Accuracy for train is  0.9813\n",
      "Train Cost after iteration 80: 0.006988\n",
      "Accuracy for train is  0.98234\n",
      "Train Cost after iteration 82: 0.006775\n",
      "Accuracy for train is  0.98286\n",
      "Train Cost after iteration 84: 0.006619\n",
      "Accuracy for train is  0.98322\n",
      "Train Cost after iteration 86: 0.006402\n",
      "Accuracy for train is  0.98388\n"
     ]
    }
   ],
   "source": [
    " w1,w2,w3,costs,costs_hold,costs_test,accuracy_train,accuracy_hold,accuracy_test = mini_optimize_reg_softmax_hidden2(w1,w2,w3,b2,b3, Train_X, Train_Y, Valid_X,Valid_Y, Test_X,Test_Y,200, 0.005,0.000,mini_batch_size=128)"
   ]
  },
  {
   "cell_type": "code",
   "execution_count": 51,
   "metadata": {},
   "outputs": [
    {
     "data": {
      "image/png": "[encoded data removed]",
      "text/plain": [
       "<matplotlib.figure.Figure at 0x10c994050>"
      ]
     },
     "metadata": {},
     "output_type": "display_data"
    }
   ],
   "source": [
    "costs = np.squeeze(costs)\n",
    "costs_hold = np.squeeze(costs_hold)\n",
    "costs_test = np.squeeze(costs_test)\n",
    "plt.plot(costs,color = 'blue',label='Training Cost')\n",
    "plt.plot(costs_hold,color = 'red',label='Holdout Cost')\n",
    "plt.plot(costs_test,color = 'green',label='Test Cost')\n",
    "plt.ylabel('cost')\n",
    "plt.xlabel('iterations')\n",
    "plt.title(\"Learning rate =\" + str(0.005))\n",
    "plt.legend()\n",
    "\n",
    "plt.show()"
   ]
  },
  {
   "cell_type": "code",
   "execution_count": 52,
   "metadata": {
    "scrolled": true
   },
   "outputs": [
    {
     "data": {
      "image/png": "[encoded data removed]",
      "text/plain": [
       "<matplotlib.figure.Figure at 0x10c9b1990>"
      ]
     },
     "metadata": {},
     "output_type": "display_data"
    }
   ],
   "source": [
    "plt.plot(accuracy_train, label='Train Accuracy')\n",
    "plt.plot(accuracy_hold, label='Holdout Accuracy')\n",
    "plt.plot(accuracy_test,label='Test Accuracy')\n",
    "plt.xlabel('iterations')\n",
    "plt.title(\"accuracy\")\n",
    "plt.legend()\n",
    "plt.show()"
   ]
  },
  {
   "cell_type": "code",
   "execution_count": 50,
   "metadata": {},
   "outputs": [
    {
     "name": "stdout",
     "output_type": "stream",
     "text": [
      "0.98388 0.9674 0.9673\n"
     ]
    }
   ],
   "source": [
    "print accuracy_train[-1],accuracy_hold[-1],accuracy_test[-1]"
   ]
  },
  {
   "cell_type": "code",
   "execution_count": 60,
   "metadata": {
    "collapsed": true
   },
   "outputs": [],
   "source": [
    "def loss_2hidden_relu(x, y,w1,w2,w3,b2,b3, reg=0.0):\n",
    "    #forward \n",
    "    z1 = np.dot(w1.T,x)\n",
    "    a1 = np.maximum(0,z1)\n",
    "    z2 = np.dot(w2.T,a1)+b2\n",
    "    a2 = np.maximum(0,z2)\n",
    "    z3 = np.dot(w3.T,a2)+b3\n",
    "    \n",
    "    #one hot coding\n",
    "    mask = build_mask(y)\n",
    "    y_k = softmax(z3)\n",
    "    #cross entropy\n",
    "    E = -np.sum(np.log(y_k[y,np.arange(x.shape[1])]))/x.shape[1]/10\n",
    "    E+=0.5*reg*np.sum(w1**2)\n",
    "    E+=0.5*reg*np.sum(w2**2)\n",
    "    E+=0.5*reg*np.sum(w3**2)\n",
    "    \n",
    "    #backprop\n",
    "    dw3= 1.0*np.dot((mask-y_k),a2.T)/a2.shape[1]\n",
    "    db3 = np.sum((mask-y_k), axis=1)/a2.shape[1]\n",
    "    delta3 = mask-y_k\n",
    "    dhidden2 =np.dot(w3,delta3)\n",
    "    dhidden2[a2 <= 0] = 0\n",
    "    delta2 = dhidden2\n",
    "    db2 = np.sum(delta2,axis =1)/a1.shape[1]\n",
    "    dw2 = np.dot(delta2,a1.T)/a1.shape[1]\n",
    "    dhidden1 =np.dot(w2,delta2)\n",
    "    dhidden1[a1 <= 0] = 0\n",
    "    delta1 = dhidden1\n",
    "    dw1 = np.dot(delta1,x.T)/x.shape[1]\n",
    "    \n",
    "    #regularizaiton\n",
    "    dw3 += reg * w3.T\n",
    "    dw2 += reg * w2.T\n",
    "    dw1 += reg * w1.T\n",
    "\n",
    "    return E, dw1,dw2,dw3,db2,db3"
   ]
  },
  {
   "cell_type": "code",
   "execution_count": 61,
   "metadata": {
    "collapsed": true
   },
   "outputs": [],
   "source": [
    "def predict_softmax_hidden2_relu(w1,w2,w3,b2,b3,x,y):\n",
    "    z1 = np.dot(w1.T,x)\n",
    "    a1 = np.maximum(0,z1)\n",
    "    z2 = np.dot(w2.T,a1)+b2\n",
    "    a2 = np.maximum(0,z2)\n",
    "    z3 = np.dot(w3.T,a2)+b3\n",
    "    y_k = softmax(z3)\n",
    "    y_pred = y_k.argmax(axis=0)\n",
    "    correct = [(a==b) for (a,b) in zip(y_pred,y)]\n",
    "    acc = sum(correct) * 1.0 / len(correct)\n",
    "    return acc"
   ]
  },
  {
   "cell_type": "code",
   "execution_count": 91,
   "metadata": {
    "collapsed": true
   },
   "outputs": [],
   "source": [
    "def mini_optimize_reg_softmax_hidden2_relu(w1,w2,w3,b2,b3, x, y, x_hold,y_hold, x_test,y_test,num_epochs, learning_rate ,reg,mini_batch_size):\n",
    "    costs = []\n",
    "    costs_hold = []\n",
    "    costs_test = []\n",
    "    accuracy_train = []\n",
    "    accuracy_hold = []\n",
    "    accuracy_test = []\n",
    "    cost_epoch = []\n",
    "    v1 = np.zeros_like(w1)\n",
    "    v2 = np.zeros_like(w2)\n",
    "    v3 = np.zeros_like(w3)\n",
    "    v4 = np.zeros_like(b2)\n",
    "    v5 = np.zeros_like(b3)\n",
    "    alpha = 0.9\n",
    "    for i in range(num_epochs):\n",
    "        #shuffle\n",
    "        shuffle_index = list(np.random.permutation(x.shape[1]))\n",
    "        x = x[:, shuffle_index]\n",
    "        y = y[shuffle_index]\n",
    "        \n",
    "        minibatches = mini_batches(x, y, mini_batch_size )\n",
    "        \n",
    "        for minibatch in minibatches:\n",
    "            (minibatch_x, minibatch_y) = minibatch\n",
    "            _,dw1,dw2,dw3,db2,db3 = loss_2hidden_relu(minibatch_x, minibatch_y,w1,w2,w3,b2,b3, reg=reg)\n",
    "\n",
    "            \n",
    "            #updata gradients and learning rate decay            \n",
    "            #w1 += learning_rate*dw1.T\n",
    "            #w2 += learning_rate*dw2.T\n",
    "            #learning_rate/=(1+i/1000) #learning rate decay\n",
    "            \n",
    "            \n",
    "            #update with moment\n",
    "            v1 = 0.9 * v1 - learning_rate * (-dw1).T\n",
    "            v2 = 0.9 * v2 - learning_rate * (-dw2).T\n",
    "            v3 = 0.9 * v3 - learning_rate * (-dw3).T\n",
    "            v4 = 0.9 * v4 - learning_rate * (-db2.reshape((64,1)))\n",
    "            v5 = 0.9 * v5 - learning_rate * (-db3.reshape((10,1)))\n",
    "            \n",
    "            w1  += v1\n",
    "            w2  += v2\n",
    "            w3  += v3\n",
    "            b2  += v4\n",
    "            b3  += v5\n",
    "            \n",
    "            learning_rate/=(1+i/1000) #learning rate decay\n",
    "\n",
    "            \n",
    "        \n",
    "\n",
    "        # Cost for train\n",
    "        cost_E,_,_,_,_,_ = loss_2hidden_relu(x, y,w1,w2,w3,b2,b3, reg=0.0)  \n",
    "        \n",
    "        # Cost for holdout\n",
    "        cost_E_hold,_,_,_,_,_ = loss_2hidden_relu(x_hold, y_hold,w1,w2,w3,b2,b3, reg=0.0) \n",
    "        \n",
    "        \n",
    "        #cost for test\n",
    "        cost_E_test,_,_,_,_,_ = loss_2hidden_relu(x_test, y_test,w1,w2,w3,b2,b3, reg=0.0) \n",
    "        \n",
    "        #calculate accuracy \n",
    "        acc_train =predict_softmax_hidden2_relu(w1,w2,w3,b2,b3,x,y)\n",
    "        acc_hold = predict_softmax_hidden2_relu(w1,w2,w3,b2,b3,x_hold,y_hold)\n",
    "        acc_test = predict_softmax_hidden2_relu(w1,w2,w3,b2,b3,x_test,y_test)\n",
    "\n",
    "        cost_epoch.append(cost_E_hold)\n",
    "        \n",
    "        #early stop\n",
    "        if i > 4:\n",
    "            if cost_epoch[-4:] == sorted(cost_epoch[-4:]):\n",
    "                break\n",
    "        \n",
    "\n",
    "        # Record the costs and acc\n",
    "        if i % 1 == 0:\n",
    "            costs.append(cost_E)\n",
    "            costs_hold.append(cost_E_hold)\n",
    "            costs_test.append(cost_E_test)\n",
    "            accuracy_train.append(acc_train)\n",
    "            accuracy_hold.append(acc_hold)\n",
    "            accuracy_test.append(acc_test)\n",
    "            print \"Train Cost after iteration %i: %f\" %(i, cost_E)\n",
    "            print \"Accuracy for train is \", acc_train\n",
    "           # print \"Accuracy for hold is \", acc_hold\n",
    "            #print \"Accuracy for test is \", acc_test\n",
    "            \n",
    "        \n",
    "    return  w1,w2,w3,costs,costs_hold,costs_test,accuracy_train,accuracy_hold,accuracy_test"
   ]
  },
  {
   "cell_type": "code",
   "execution_count": 106,
   "metadata": {
    "collapsed": true
   },
   "outputs": [],
   "source": [
    "# 2 hidden layers relu\n",
    "# initilize\n",
    "#hidden_layer_units = 128\n",
    "n_h1 = 64\n",
    "n_h2 = 64\n",
    "n_x = Train_X.shape[0]\n",
    "n_y = 10\n",
    "#fan-in\n",
    "w1 = np.random.randn(n_x,n_h1)/np.sqrt(50240)\n",
    "w2 = np.random.randn(n_h1,n_h2)/np.sqrt(4096)\n",
    "w3 = np.random.randn(n_h2,n_y)/np.sqrt(640)\n",
    "b3 = np.zeros((n_y,1)) #bias for w2\n",
    "b2 = np.zeros((n_h2,1))"
   ]
  },
  {
   "cell_type": "code",
   "execution_count": 107,
   "metadata": {},
   "outputs": [
    {
     "name": "stdout",
     "output_type": "stream",
     "text": [
      "Train Cost after iteration 0: 0.060112\n",
      "Accuracy for train is  0.82198\n",
      "Train Cost after iteration 1: 0.036624\n",
      "Accuracy for train is  0.8943\n",
      "Train Cost after iteration 2: 0.031180\n",
      "Accuracy for train is  0.9082\n",
      "Train Cost after iteration 3: 0.025042\n",
      "Accuracy for train is  0.92628\n",
      "Train Cost after iteration 4: 0.021595\n",
      "Accuracy for train is  0.93686\n",
      "Train Cost after iteration 5: 0.018737\n",
      "Accuracy for train is  0.94558\n",
      "Train Cost after iteration 6: 0.015569\n",
      "Accuracy for train is  0.9549\n",
      "Train Cost after iteration 7: 0.013947\n",
      "Accuracy for train is  0.95954\n",
      "Train Cost after iteration 8: 0.012599\n",
      "Accuracy for train is  0.96284\n",
      "Train Cost after iteration 9: 0.011580\n",
      "Accuracy for train is  0.96596\n",
      "Train Cost after iteration 10: 0.010934\n",
      "Accuracy for train is  0.96772\n",
      "Train Cost after iteration 11: 0.009746\n",
      "Accuracy for train is  0.97104\n",
      "Train Cost after iteration 12: 0.008970\n",
      "Accuracy for train is  0.97304\n",
      "Train Cost after iteration 13: 0.007828\n",
      "Accuracy for train is  0.97668\n",
      "Train Cost after iteration 14: 0.007782\n",
      "Accuracy for train is  0.977\n",
      "Train Cost after iteration 15: 0.007195\n",
      "Accuracy for train is  0.97812\n",
      "Train Cost after iteration 16: 0.006470\n",
      "Accuracy for train is  0.97998\n",
      "Train Cost after iteration 17: 0.007297\n",
      "Accuracy for train is  0.97692\n",
      "Train Cost after iteration 18: 0.006497\n",
      "Accuracy for train is  0.97952\n",
      "Train Cost after iteration 19: 0.005262\n",
      "Accuracy for train is  0.98426\n",
      "Train Cost after iteration 20: 0.005008\n",
      "Accuracy for train is  0.98506\n",
      "Train Cost after iteration 21: 0.005263\n",
      "Accuracy for train is  0.98408\n",
      "Train Cost after iteration 22: 0.004423\n",
      "Accuracy for train is  0.98608\n",
      "Train Cost after iteration 23: 0.004263\n",
      "Accuracy for train is  0.98636\n",
      "Train Cost after iteration 24: 0.004690\n",
      "Accuracy for train is  0.98438\n"
     ]
    }
   ],
   "source": [
    " w1,w2,w3,costs,costs_hold,costs_test,accuracy_train,accuracy_hold,accuracy_test = mini_optimize_reg_softmax_hidden2_relu(w1,w2,w3,b2,b3, Train_X, Train_Y, Valid_X,Valid_Y, Test_X,Test_Y,50, 0.005 ,0.001,mini_batch_size=128)"
   ]
  },
  {
   "cell_type": "code",
   "execution_count": 110,
   "metadata": {},
   "outputs": [
    {
     "data": {
      "image/png": "[encoded data removed]",
      "text/plain": [
       "<matplotlib.figure.Figure at 0x115c072d0>"
      ]
     },
     "metadata": {},
     "output_type": "display_data"
    }
   ],
   "source": [
    "# costs = np.squeeze(costs)\n",
    "# costs_hold = np.squeeze(costs_hold)\n",
    "# costs_test = np.squeeze(costs_test)\n",
    "plt.plot(costs,color = 'blue',label='Training Cost')\n",
    "plt.plot(costs_hold,color = 'red',label='Holdout Cost')\n",
    "plt.plot(costs_test,color = 'green',label='Test Cost')\n",
    "plt.ylabel('cost')\n",
    "plt.xlabel('iterations')\n",
    "plt.title(\"Learning rate =\" + str(0.005))\n",
    "plt.legend()\n",
    "plt.show()"
   ]
  },
  {
   "cell_type": "code",
   "execution_count": 111,
   "metadata": {},
   "outputs": [
    {
     "data": {
      "image/png": "[encoded data removed]",
      "text/plain": [
       "<matplotlib.figure.Figure at 0x11526e210>"
      ]
     },
     "metadata": {},
     "output_type": "display_data"
    }
   ],
   "source": [
    "plt.plot(accuracy_train, label='Train Accuracy')\n",
    "plt.plot(accuracy_hold, label='Holdout Accuracy')\n",
    "plt.plot(accuracy_test,label='Test Accuracy')\n",
    "plt.xlabel('iterations')\n",
    "plt.title(\"accuracy\")\n",
    "plt.legend()\n",
    "plt.show()"
   ]
  },
  {
   "cell_type": "code",
   "execution_count": 112,
   "metadata": {},
   "outputs": [
    {
     "name": "stdout",
     "output_type": "stream",
     "text": [
      "0.98438 0.9659 0.9667\n"
     ]
    }
   ],
   "source": [
    "print accuracy_train[-1],accuracy_hold[-1],accuracy_test[-1]"
   ]
  },
  {
   "cell_type": "code",
   "execution_count": null,
   "metadata": {
    "collapsed": true
   },
   "outputs": [],
   "source": []
  }
 ],
 "metadata": {
  "kernelspec": {
   "display_name": "Python 2",
   "language": "python",
   "name": "python2"
  },
  "language_info": {
   "codemirror_mode": {
    "name": "ipython",
    "version": 2
   },
   "file_extension": ".py",
   "mimetype": "text/x-python",
   "name": "python",
   "nbconvert_exporter": "python",
   "pygments_lexer": "ipython2",
   "version": "2.7.14"
  }
 },
 "nbformat": 4,
 "nbformat_minor": 2
}
